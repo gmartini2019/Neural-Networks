{
  "nbformat": 4,
  "nbformat_minor": 0,
  "metadata": {
    "colab": {
      "provenance": [],
      "collapsed_sections": []
    },
    "kernelspec": {
      "name": "python3",
      "display_name": "Python 3"
    },
    "language_info": {
      "name": "python"
    },
    "accelerator": "GPU",
    "gpuClass": "standard",
    "widgets": {
      "application/vnd.jupyter.widget-state+json": {
        "0c5596d70c45424faf752c1e3365fcee": {
          "model_module": "@jupyter-widgets/controls",
          "model_name": "HBoxModel",
          "model_module_version": "1.5.0",
          "state": {
            "_dom_classes": [],
            "_model_module": "@jupyter-widgets/controls",
            "_model_module_version": "1.5.0",
            "_model_name": "HBoxModel",
            "_view_count": null,
            "_view_module": "@jupyter-widgets/controls",
            "_view_module_version": "1.5.0",
            "_view_name": "HBoxView",
            "box_style": "",
            "children": [
              "IPY_MODEL_5593d55fdefd40bbaf6e0902931c0ed5",
              "IPY_MODEL_cab1699b57da4eb28aa5436e8f1e4501",
              "IPY_MODEL_f9cf2236244f4e31aab45ade30af73dd"
            ],
            "layout": "IPY_MODEL_e7e2a4fd340d4da1a8165681244b4c2f"
          }
        },
        "5593d55fdefd40bbaf6e0902931c0ed5": {
          "model_module": "@jupyter-widgets/controls",
          "model_name": "HTMLModel",
          "model_module_version": "1.5.0",
          "state": {
            "_dom_classes": [],
            "_model_module": "@jupyter-widgets/controls",
            "_model_module_version": "1.5.0",
            "_model_name": "HTMLModel",
            "_view_count": null,
            "_view_module": "@jupyter-widgets/controls",
            "_view_module_version": "1.5.0",
            "_view_name": "HTMLView",
            "description": "",
            "description_tooltip": null,
            "layout": "IPY_MODEL_59c7b0ec6e4241409bab0f4e1d6c779a",
            "placeholder": "​",
            "style": "IPY_MODEL_47f6e586cd0b4672a9bd9e79594a6435",
            "value": "Generating splits...: 100%"
          }
        },
        "cab1699b57da4eb28aa5436e8f1e4501": {
          "model_module": "@jupyter-widgets/controls",
          "model_name": "FloatProgressModel",
          "model_module_version": "1.5.0",
          "state": {
            "_dom_classes": [],
            "_model_module": "@jupyter-widgets/controls",
            "_model_module_version": "1.5.0",
            "_model_name": "FloatProgressModel",
            "_view_count": null,
            "_view_module": "@jupyter-widgets/controls",
            "_view_module_version": "1.5.0",
            "_view_name": "ProgressView",
            "bar_style": "",
            "description": "",
            "description_tooltip": null,
            "layout": "IPY_MODEL_f4cff6ee113c46ddbaa4abf7a1e529ab",
            "max": 1,
            "min": 0,
            "orientation": "horizontal",
            "style": "IPY_MODEL_99374ee6efdf44258513702533eab0be",
            "value": 1
          }
        },
        "f9cf2236244f4e31aab45ade30af73dd": {
          "model_module": "@jupyter-widgets/controls",
          "model_name": "HTMLModel",
          "model_module_version": "1.5.0",
          "state": {
            "_dom_classes": [],
            "_model_module": "@jupyter-widgets/controls",
            "_model_module_version": "1.5.0",
            "_model_name": "HTMLModel",
            "_view_count": null,
            "_view_module": "@jupyter-widgets/controls",
            "_view_module_version": "1.5.0",
            "_view_name": "HTMLView",
            "description": "",
            "description_tooltip": null,
            "layout": "IPY_MODEL_1d395fc99c414f00b9efdc39fb1a774c",
            "placeholder": "​",
            "style": "IPY_MODEL_29bdf4c43ffa4f679da0a140720766a2",
            "value": " 1/1 [00:13&lt;00:00, 13.97s/ splits]"
          }
        },
        "e7e2a4fd340d4da1a8165681244b4c2f": {
          "model_module": "@jupyter-widgets/base",
          "model_name": "LayoutModel",
          "model_module_version": "1.2.0",
          "state": {
            "_model_module": "@jupyter-widgets/base",
            "_model_module_version": "1.2.0",
            "_model_name": "LayoutModel",
            "_view_count": null,
            "_view_module": "@jupyter-widgets/base",
            "_view_module_version": "1.2.0",
            "_view_name": "LayoutView",
            "align_content": null,
            "align_items": null,
            "align_self": null,
            "border": null,
            "bottom": null,
            "display": null,
            "flex": null,
            "flex_flow": null,
            "grid_area": null,
            "grid_auto_columns": null,
            "grid_auto_flow": null,
            "grid_auto_rows": null,
            "grid_column": null,
            "grid_gap": null,
            "grid_row": null,
            "grid_template_areas": null,
            "grid_template_columns": null,
            "grid_template_rows": null,
            "height": null,
            "justify_content": null,
            "justify_items": null,
            "left": null,
            "margin": null,
            "max_height": null,
            "max_width": null,
            "min_height": null,
            "min_width": null,
            "object_fit": null,
            "object_position": null,
            "order": null,
            "overflow": null,
            "overflow_x": null,
            "overflow_y": null,
            "padding": null,
            "right": null,
            "top": null,
            "visibility": "hidden",
            "width": null
          }
        },
        "59c7b0ec6e4241409bab0f4e1d6c779a": {
          "model_module": "@jupyter-widgets/base",
          "model_name": "LayoutModel",
          "model_module_version": "1.2.0",
          "state": {
            "_model_module": "@jupyter-widgets/base",
            "_model_module_version": "1.2.0",
            "_model_name": "LayoutModel",
            "_view_count": null,
            "_view_module": "@jupyter-widgets/base",
            "_view_module_version": "1.2.0",
            "_view_name": "LayoutView",
            "align_content": null,
            "align_items": null,
            "align_self": null,
            "border": null,
            "bottom": null,
            "display": null,
            "flex": null,
            "flex_flow": null,
            "grid_area": null,
            "grid_auto_columns": null,
            "grid_auto_flow": null,
            "grid_auto_rows": null,
            "grid_column": null,
            "grid_gap": null,
            "grid_row": null,
            "grid_template_areas": null,
            "grid_template_columns": null,
            "grid_template_rows": null,
            "height": null,
            "justify_content": null,
            "justify_items": null,
            "left": null,
            "margin": null,
            "max_height": null,
            "max_width": null,
            "min_height": null,
            "min_width": null,
            "object_fit": null,
            "object_position": null,
            "order": null,
            "overflow": null,
            "overflow_x": null,
            "overflow_y": null,
            "padding": null,
            "right": null,
            "top": null,
            "visibility": null,
            "width": null
          }
        },
        "47f6e586cd0b4672a9bd9e79594a6435": {
          "model_module": "@jupyter-widgets/controls",
          "model_name": "DescriptionStyleModel",
          "model_module_version": "1.5.0",
          "state": {
            "_model_module": "@jupyter-widgets/controls",
            "_model_module_version": "1.5.0",
            "_model_name": "DescriptionStyleModel",
            "_view_count": null,
            "_view_module": "@jupyter-widgets/base",
            "_view_module_version": "1.2.0",
            "_view_name": "StyleView",
            "description_width": ""
          }
        },
        "f4cff6ee113c46ddbaa4abf7a1e529ab": {
          "model_module": "@jupyter-widgets/base",
          "model_name": "LayoutModel",
          "model_module_version": "1.2.0",
          "state": {
            "_model_module": "@jupyter-widgets/base",
            "_model_module_version": "1.2.0",
            "_model_name": "LayoutModel",
            "_view_count": null,
            "_view_module": "@jupyter-widgets/base",
            "_view_module_version": "1.2.0",
            "_view_name": "LayoutView",
            "align_content": null,
            "align_items": null,
            "align_self": null,
            "border": null,
            "bottom": null,
            "display": null,
            "flex": null,
            "flex_flow": null,
            "grid_area": null,
            "grid_auto_columns": null,
            "grid_auto_flow": null,
            "grid_auto_rows": null,
            "grid_column": null,
            "grid_gap": null,
            "grid_row": null,
            "grid_template_areas": null,
            "grid_template_columns": null,
            "grid_template_rows": null,
            "height": null,
            "justify_content": null,
            "justify_items": null,
            "left": null,
            "margin": null,
            "max_height": null,
            "max_width": null,
            "min_height": null,
            "min_width": null,
            "object_fit": null,
            "object_position": null,
            "order": null,
            "overflow": null,
            "overflow_x": null,
            "overflow_y": null,
            "padding": null,
            "right": null,
            "top": null,
            "visibility": null,
            "width": null
          }
        },
        "99374ee6efdf44258513702533eab0be": {
          "model_module": "@jupyter-widgets/controls",
          "model_name": "ProgressStyleModel",
          "model_module_version": "1.5.0",
          "state": {
            "_model_module": "@jupyter-widgets/controls",
            "_model_module_version": "1.5.0",
            "_model_name": "ProgressStyleModel",
            "_view_count": null,
            "_view_module": "@jupyter-widgets/base",
            "_view_module_version": "1.2.0",
            "_view_name": "StyleView",
            "bar_color": null,
            "description_width": ""
          }
        },
        "1d395fc99c414f00b9efdc39fb1a774c": {
          "model_module": "@jupyter-widgets/base",
          "model_name": "LayoutModel",
          "model_module_version": "1.2.0",
          "state": {
            "_model_module": "@jupyter-widgets/base",
            "_model_module_version": "1.2.0",
            "_model_name": "LayoutModel",
            "_view_count": null,
            "_view_module": "@jupyter-widgets/base",
            "_view_module_version": "1.2.0",
            "_view_name": "LayoutView",
            "align_content": null,
            "align_items": null,
            "align_self": null,
            "border": null,
            "bottom": null,
            "display": null,
            "flex": null,
            "flex_flow": null,
            "grid_area": null,
            "grid_auto_columns": null,
            "grid_auto_flow": null,
            "grid_auto_rows": null,
            "grid_column": null,
            "grid_gap": null,
            "grid_row": null,
            "grid_template_areas": null,
            "grid_template_columns": null,
            "grid_template_rows": null,
            "height": null,
            "justify_content": null,
            "justify_items": null,
            "left": null,
            "margin": null,
            "max_height": null,
            "max_width": null,
            "min_height": null,
            "min_width": null,
            "object_fit": null,
            "object_position": null,
            "order": null,
            "overflow": null,
            "overflow_x": null,
            "overflow_y": null,
            "padding": null,
            "right": null,
            "top": null,
            "visibility": null,
            "width": null
          }
        },
        "29bdf4c43ffa4f679da0a140720766a2": {
          "model_module": "@jupyter-widgets/controls",
          "model_name": "DescriptionStyleModel",
          "model_module_version": "1.5.0",
          "state": {
            "_model_module": "@jupyter-widgets/controls",
            "_model_module_version": "1.5.0",
            "_model_name": "DescriptionStyleModel",
            "_view_count": null,
            "_view_module": "@jupyter-widgets/base",
            "_view_module_version": "1.2.0",
            "_view_name": "StyleView",
            "description_width": ""
          }
        },
        "dcda39285a6042da8c64c4a9d1f9c6b7": {
          "model_module": "@jupyter-widgets/controls",
          "model_name": "HBoxModel",
          "model_module_version": "1.5.0",
          "state": {
            "_dom_classes": [],
            "_model_module": "@jupyter-widgets/controls",
            "_model_module_version": "1.5.0",
            "_model_name": "HBoxModel",
            "_view_count": null,
            "_view_module": "@jupyter-widgets/controls",
            "_view_module_version": "1.5.0",
            "_view_name": "HBoxView",
            "box_style": "",
            "children": [
              "IPY_MODEL_7f8090b8b750406a952a4bc8e7cc86a3",
              "IPY_MODEL_d79d8db4a92e41a3b95ae7c1709628a7",
              "IPY_MODEL_f09359063ce74797b713b30f0b3db617"
            ],
            "layout": "IPY_MODEL_8cb8f300e048471faadc8a7196236e0d"
          }
        },
        "7f8090b8b750406a952a4bc8e7cc86a3": {
          "model_module": "@jupyter-widgets/controls",
          "model_name": "HTMLModel",
          "model_module_version": "1.5.0",
          "state": {
            "_dom_classes": [],
            "_model_module": "@jupyter-widgets/controls",
            "_model_module_version": "1.5.0",
            "_model_name": "HTMLModel",
            "_view_count": null,
            "_view_module": "@jupyter-widgets/controls",
            "_view_module_version": "1.5.0",
            "_view_name": "HTMLView",
            "description": "",
            "description_tooltip": null,
            "layout": "IPY_MODEL_c0bb8fce53bf45f9974fe6f5e7b32950",
            "placeholder": "​",
            "style": "IPY_MODEL_d3795de1e9854014b257ea79a37fe3b0",
            "value": "Generating train examples...: 100%"
          }
        },
        "d79d8db4a92e41a3b95ae7c1709628a7": {
          "model_module": "@jupyter-widgets/controls",
          "model_name": "FloatProgressModel",
          "model_module_version": "1.5.0",
          "state": {
            "_dom_classes": [],
            "_model_module": "@jupyter-widgets/controls",
            "_model_module_version": "1.5.0",
            "_model_name": "FloatProgressModel",
            "_view_count": null,
            "_view_module": "@jupyter-widgets/controls",
            "_view_module_version": "1.5.0",
            "_view_name": "ProgressView",
            "bar_style": "",
            "description": "",
            "description_tooltip": null,
            "layout": "IPY_MODEL_47c0299785614584a8b4ac99b1b00579",
            "max": 31500,
            "min": 0,
            "orientation": "horizontal",
            "style": "IPY_MODEL_c5012dc15c5f46f680fbbe33b371e9f2",
            "value": 31500
          }
        },
        "f09359063ce74797b713b30f0b3db617": {
          "model_module": "@jupyter-widgets/controls",
          "model_name": "HTMLModel",
          "model_module_version": "1.5.0",
          "state": {
            "_dom_classes": [],
            "_model_module": "@jupyter-widgets/controls",
            "_model_module_version": "1.5.0",
            "_model_name": "HTMLModel",
            "_view_count": null,
            "_view_module": "@jupyter-widgets/controls",
            "_view_module_version": "1.5.0",
            "_view_name": "HTMLView",
            "description": "",
            "description_tooltip": null,
            "layout": "IPY_MODEL_55cd7ae43b3a4c85bbaaddf1b21b4ce2",
            "placeholder": "​",
            "style": "IPY_MODEL_7a35cd0f372848e693b98c288c5a8e8e",
            "value": " 31459/31500 [00:12&lt;00:00, 2285.41 examples/s]"
          }
        },
        "8cb8f300e048471faadc8a7196236e0d": {
          "model_module": "@jupyter-widgets/base",
          "model_name": "LayoutModel",
          "model_module_version": "1.2.0",
          "state": {
            "_model_module": "@jupyter-widgets/base",
            "_model_module_version": "1.2.0",
            "_model_name": "LayoutModel",
            "_view_count": null,
            "_view_module": "@jupyter-widgets/base",
            "_view_module_version": "1.2.0",
            "_view_name": "LayoutView",
            "align_content": null,
            "align_items": null,
            "align_self": null,
            "border": null,
            "bottom": null,
            "display": null,
            "flex": null,
            "flex_flow": null,
            "grid_area": null,
            "grid_auto_columns": null,
            "grid_auto_flow": null,
            "grid_auto_rows": null,
            "grid_column": null,
            "grid_gap": null,
            "grid_row": null,
            "grid_template_areas": null,
            "grid_template_columns": null,
            "grid_template_rows": null,
            "height": null,
            "justify_content": null,
            "justify_items": null,
            "left": null,
            "margin": null,
            "max_height": null,
            "max_width": null,
            "min_height": null,
            "min_width": null,
            "object_fit": null,
            "object_position": null,
            "order": null,
            "overflow": null,
            "overflow_x": null,
            "overflow_y": null,
            "padding": null,
            "right": null,
            "top": null,
            "visibility": "hidden",
            "width": null
          }
        },
        "c0bb8fce53bf45f9974fe6f5e7b32950": {
          "model_module": "@jupyter-widgets/base",
          "model_name": "LayoutModel",
          "model_module_version": "1.2.0",
          "state": {
            "_model_module": "@jupyter-widgets/base",
            "_model_module_version": "1.2.0",
            "_model_name": "LayoutModel",
            "_view_count": null,
            "_view_module": "@jupyter-widgets/base",
            "_view_module_version": "1.2.0",
            "_view_name": "LayoutView",
            "align_content": null,
            "align_items": null,
            "align_self": null,
            "border": null,
            "bottom": null,
            "display": null,
            "flex": null,
            "flex_flow": null,
            "grid_area": null,
            "grid_auto_columns": null,
            "grid_auto_flow": null,
            "grid_auto_rows": null,
            "grid_column": null,
            "grid_gap": null,
            "grid_row": null,
            "grid_template_areas": null,
            "grid_template_columns": null,
            "grid_template_rows": null,
            "height": null,
            "justify_content": null,
            "justify_items": null,
            "left": null,
            "margin": null,
            "max_height": null,
            "max_width": null,
            "min_height": null,
            "min_width": null,
            "object_fit": null,
            "object_position": null,
            "order": null,
            "overflow": null,
            "overflow_x": null,
            "overflow_y": null,
            "padding": null,
            "right": null,
            "top": null,
            "visibility": null,
            "width": null
          }
        },
        "d3795de1e9854014b257ea79a37fe3b0": {
          "model_module": "@jupyter-widgets/controls",
          "model_name": "DescriptionStyleModel",
          "model_module_version": "1.5.0",
          "state": {
            "_model_module": "@jupyter-widgets/controls",
            "_model_module_version": "1.5.0",
            "_model_name": "DescriptionStyleModel",
            "_view_count": null,
            "_view_module": "@jupyter-widgets/base",
            "_view_module_version": "1.2.0",
            "_view_name": "StyleView",
            "description_width": ""
          }
        },
        "47c0299785614584a8b4ac99b1b00579": {
          "model_module": "@jupyter-widgets/base",
          "model_name": "LayoutModel",
          "model_module_version": "1.2.0",
          "state": {
            "_model_module": "@jupyter-widgets/base",
            "_model_module_version": "1.2.0",
            "_model_name": "LayoutModel",
            "_view_count": null,
            "_view_module": "@jupyter-widgets/base",
            "_view_module_version": "1.2.0",
            "_view_name": "LayoutView",
            "align_content": null,
            "align_items": null,
            "align_self": null,
            "border": null,
            "bottom": null,
            "display": null,
            "flex": null,
            "flex_flow": null,
            "grid_area": null,
            "grid_auto_columns": null,
            "grid_auto_flow": null,
            "grid_auto_rows": null,
            "grid_column": null,
            "grid_gap": null,
            "grid_row": null,
            "grid_template_areas": null,
            "grid_template_columns": null,
            "grid_template_rows": null,
            "height": null,
            "justify_content": null,
            "justify_items": null,
            "left": null,
            "margin": null,
            "max_height": null,
            "max_width": null,
            "min_height": null,
            "min_width": null,
            "object_fit": null,
            "object_position": null,
            "order": null,
            "overflow": null,
            "overflow_x": null,
            "overflow_y": null,
            "padding": null,
            "right": null,
            "top": null,
            "visibility": null,
            "width": null
          }
        },
        "c5012dc15c5f46f680fbbe33b371e9f2": {
          "model_module": "@jupyter-widgets/controls",
          "model_name": "ProgressStyleModel",
          "model_module_version": "1.5.0",
          "state": {
            "_model_module": "@jupyter-widgets/controls",
            "_model_module_version": "1.5.0",
            "_model_name": "ProgressStyleModel",
            "_view_count": null,
            "_view_module": "@jupyter-widgets/base",
            "_view_module_version": "1.2.0",
            "_view_name": "StyleView",
            "bar_color": null,
            "description_width": ""
          }
        },
        "55cd7ae43b3a4c85bbaaddf1b21b4ce2": {
          "model_module": "@jupyter-widgets/base",
          "model_name": "LayoutModel",
          "model_module_version": "1.2.0",
          "state": {
            "_model_module": "@jupyter-widgets/base",
            "_model_module_version": "1.2.0",
            "_model_name": "LayoutModel",
            "_view_count": null,
            "_view_module": "@jupyter-widgets/base",
            "_view_module_version": "1.2.0",
            "_view_name": "LayoutView",
            "align_content": null,
            "align_items": null,
            "align_self": null,
            "border": null,
            "bottom": null,
            "display": null,
            "flex": null,
            "flex_flow": null,
            "grid_area": null,
            "grid_auto_columns": null,
            "grid_auto_flow": null,
            "grid_auto_rows": null,
            "grid_column": null,
            "grid_gap": null,
            "grid_row": null,
            "grid_template_areas": null,
            "grid_template_columns": null,
            "grid_template_rows": null,
            "height": null,
            "justify_content": null,
            "justify_items": null,
            "left": null,
            "margin": null,
            "max_height": null,
            "max_width": null,
            "min_height": null,
            "min_width": null,
            "object_fit": null,
            "object_position": null,
            "order": null,
            "overflow": null,
            "overflow_x": null,
            "overflow_y": null,
            "padding": null,
            "right": null,
            "top": null,
            "visibility": null,
            "width": null
          }
        },
        "7a35cd0f372848e693b98c288c5a8e8e": {
          "model_module": "@jupyter-widgets/controls",
          "model_name": "DescriptionStyleModel",
          "model_module_version": "1.5.0",
          "state": {
            "_model_module": "@jupyter-widgets/controls",
            "_model_module_version": "1.5.0",
            "_model_name": "DescriptionStyleModel",
            "_view_count": null,
            "_view_module": "@jupyter-widgets/base",
            "_view_module_version": "1.2.0",
            "_view_name": "StyleView",
            "description_width": ""
          }
        },
        "5cdfc755f1fa4ad5a87a99424eac6ccf": {
          "model_module": "@jupyter-widgets/controls",
          "model_name": "HBoxModel",
          "model_module_version": "1.5.0",
          "state": {
            "_dom_classes": [],
            "_model_module": "@jupyter-widgets/controls",
            "_model_module_version": "1.5.0",
            "_model_name": "HBoxModel",
            "_view_count": null,
            "_view_module": "@jupyter-widgets/controls",
            "_view_module_version": "1.5.0",
            "_view_name": "HBoxView",
            "box_style": "",
            "children": [
              "IPY_MODEL_ee031fc02b1a4e22addd564eb4678332",
              "IPY_MODEL_0137a684f7a24baa8d2a01dbc7f1b782",
              "IPY_MODEL_3a22b9b8ccff4778b10bbab92d37d87d"
            ],
            "layout": "IPY_MODEL_addd07bd6b864660a931d2e52d4e4af2"
          }
        },
        "ee031fc02b1a4e22addd564eb4678332": {
          "model_module": "@jupyter-widgets/controls",
          "model_name": "HTMLModel",
          "model_module_version": "1.5.0",
          "state": {
            "_dom_classes": [],
            "_model_module": "@jupyter-widgets/controls",
            "_model_module_version": "1.5.0",
            "_model_name": "HTMLModel",
            "_view_count": null,
            "_view_module": "@jupyter-widgets/controls",
            "_view_module_version": "1.5.0",
            "_view_name": "HTMLView",
            "description": "",
            "description_tooltip": null,
            "layout": "IPY_MODEL_8991a9a2993a4832b29c83ae8eff1537",
            "placeholder": "​",
            "style": "IPY_MODEL_a95d8f27dc9c45c691ae7de1b19dce60",
            "value": "Shuffling ~/tensorflow_datasets/resisc45/3.0.0.incompleteHVU96I/resisc45-train.tfrecord*...: 100%"
          }
        },
        "0137a684f7a24baa8d2a01dbc7f1b782": {
          "model_module": "@jupyter-widgets/controls",
          "model_name": "FloatProgressModel",
          "model_module_version": "1.5.0",
          "state": {
            "_dom_classes": [],
            "_model_module": "@jupyter-widgets/controls",
            "_model_module_version": "1.5.0",
            "_model_name": "FloatProgressModel",
            "_view_count": null,
            "_view_module": "@jupyter-widgets/controls",
            "_view_module_version": "1.5.0",
            "_view_name": "ProgressView",
            "bar_style": "",
            "description": "",
            "description_tooltip": null,
            "layout": "IPY_MODEL_a5bba637833d4d6798c7d635c78c46e9",
            "max": 31500,
            "min": 0,
            "orientation": "horizontal",
            "style": "IPY_MODEL_5d02fd48448742caba8622fd50b473ed",
            "value": 31500
          }
        },
        "3a22b9b8ccff4778b10bbab92d37d87d": {
          "model_module": "@jupyter-widgets/controls",
          "model_name": "HTMLModel",
          "model_module_version": "1.5.0",
          "state": {
            "_dom_classes": [],
            "_model_module": "@jupyter-widgets/controls",
            "_model_module_version": "1.5.0",
            "_model_name": "HTMLModel",
            "_view_count": null,
            "_view_module": "@jupyter-widgets/controls",
            "_view_module_version": "1.5.0",
            "_view_name": "HTMLView",
            "description": "",
            "description_tooltip": null,
            "layout": "IPY_MODEL_65a379a471ed4f9f9aa8283f7a4c90d0",
            "placeholder": "​",
            "style": "IPY_MODEL_d2a8357f64e1436eaa38e63a8d173f00",
            "value": " 31468/31500 [00:01&lt;00:00, 21509.46 examples/s]"
          }
        },
        "addd07bd6b864660a931d2e52d4e4af2": {
          "model_module": "@jupyter-widgets/base",
          "model_name": "LayoutModel",
          "model_module_version": "1.2.0",
          "state": {
            "_model_module": "@jupyter-widgets/base",
            "_model_module_version": "1.2.0",
            "_model_name": "LayoutModel",
            "_view_count": null,
            "_view_module": "@jupyter-widgets/base",
            "_view_module_version": "1.2.0",
            "_view_name": "LayoutView",
            "align_content": null,
            "align_items": null,
            "align_self": null,
            "border": null,
            "bottom": null,
            "display": null,
            "flex": null,
            "flex_flow": null,
            "grid_area": null,
            "grid_auto_columns": null,
            "grid_auto_flow": null,
            "grid_auto_rows": null,
            "grid_column": null,
            "grid_gap": null,
            "grid_row": null,
            "grid_template_areas": null,
            "grid_template_columns": null,
            "grid_template_rows": null,
            "height": null,
            "justify_content": null,
            "justify_items": null,
            "left": null,
            "margin": null,
            "max_height": null,
            "max_width": null,
            "min_height": null,
            "min_width": null,
            "object_fit": null,
            "object_position": null,
            "order": null,
            "overflow": null,
            "overflow_x": null,
            "overflow_y": null,
            "padding": null,
            "right": null,
            "top": null,
            "visibility": "hidden",
            "width": null
          }
        },
        "8991a9a2993a4832b29c83ae8eff1537": {
          "model_module": "@jupyter-widgets/base",
          "model_name": "LayoutModel",
          "model_module_version": "1.2.0",
          "state": {
            "_model_module": "@jupyter-widgets/base",
            "_model_module_version": "1.2.0",
            "_model_name": "LayoutModel",
            "_view_count": null,
            "_view_module": "@jupyter-widgets/base",
            "_view_module_version": "1.2.0",
            "_view_name": "LayoutView",
            "align_content": null,
            "align_items": null,
            "align_self": null,
            "border": null,
            "bottom": null,
            "display": null,
            "flex": null,
            "flex_flow": null,
            "grid_area": null,
            "grid_auto_columns": null,
            "grid_auto_flow": null,
            "grid_auto_rows": null,
            "grid_column": null,
            "grid_gap": null,
            "grid_row": null,
            "grid_template_areas": null,
            "grid_template_columns": null,
            "grid_template_rows": null,
            "height": null,
            "justify_content": null,
            "justify_items": null,
            "left": null,
            "margin": null,
            "max_height": null,
            "max_width": null,
            "min_height": null,
            "min_width": null,
            "object_fit": null,
            "object_position": null,
            "order": null,
            "overflow": null,
            "overflow_x": null,
            "overflow_y": null,
            "padding": null,
            "right": null,
            "top": null,
            "visibility": null,
            "width": null
          }
        },
        "a95d8f27dc9c45c691ae7de1b19dce60": {
          "model_module": "@jupyter-widgets/controls",
          "model_name": "DescriptionStyleModel",
          "model_module_version": "1.5.0",
          "state": {
            "_model_module": "@jupyter-widgets/controls",
            "_model_module_version": "1.5.0",
            "_model_name": "DescriptionStyleModel",
            "_view_count": null,
            "_view_module": "@jupyter-widgets/base",
            "_view_module_version": "1.2.0",
            "_view_name": "StyleView",
            "description_width": ""
          }
        },
        "a5bba637833d4d6798c7d635c78c46e9": {
          "model_module": "@jupyter-widgets/base",
          "model_name": "LayoutModel",
          "model_module_version": "1.2.0",
          "state": {
            "_model_module": "@jupyter-widgets/base",
            "_model_module_version": "1.2.0",
            "_model_name": "LayoutModel",
            "_view_count": null,
            "_view_module": "@jupyter-widgets/base",
            "_view_module_version": "1.2.0",
            "_view_name": "LayoutView",
            "align_content": null,
            "align_items": null,
            "align_self": null,
            "border": null,
            "bottom": null,
            "display": null,
            "flex": null,
            "flex_flow": null,
            "grid_area": null,
            "grid_auto_columns": null,
            "grid_auto_flow": null,
            "grid_auto_rows": null,
            "grid_column": null,
            "grid_gap": null,
            "grid_row": null,
            "grid_template_areas": null,
            "grid_template_columns": null,
            "grid_template_rows": null,
            "height": null,
            "justify_content": null,
            "justify_items": null,
            "left": null,
            "margin": null,
            "max_height": null,
            "max_width": null,
            "min_height": null,
            "min_width": null,
            "object_fit": null,
            "object_position": null,
            "order": null,
            "overflow": null,
            "overflow_x": null,
            "overflow_y": null,
            "padding": null,
            "right": null,
            "top": null,
            "visibility": null,
            "width": null
          }
        },
        "5d02fd48448742caba8622fd50b473ed": {
          "model_module": "@jupyter-widgets/controls",
          "model_name": "ProgressStyleModel",
          "model_module_version": "1.5.0",
          "state": {
            "_model_module": "@jupyter-widgets/controls",
            "_model_module_version": "1.5.0",
            "_model_name": "ProgressStyleModel",
            "_view_count": null,
            "_view_module": "@jupyter-widgets/base",
            "_view_module_version": "1.2.0",
            "_view_name": "StyleView",
            "bar_color": null,
            "description_width": ""
          }
        },
        "65a379a471ed4f9f9aa8283f7a4c90d0": {
          "model_module": "@jupyter-widgets/base",
          "model_name": "LayoutModel",
          "model_module_version": "1.2.0",
          "state": {
            "_model_module": "@jupyter-widgets/base",
            "_model_module_version": "1.2.0",
            "_model_name": "LayoutModel",
            "_view_count": null,
            "_view_module": "@jupyter-widgets/base",
            "_view_module_version": "1.2.0",
            "_view_name": "LayoutView",
            "align_content": null,
            "align_items": null,
            "align_self": null,
            "border": null,
            "bottom": null,
            "display": null,
            "flex": null,
            "flex_flow": null,
            "grid_area": null,
            "grid_auto_columns": null,
            "grid_auto_flow": null,
            "grid_auto_rows": null,
            "grid_column": null,
            "grid_gap": null,
            "grid_row": null,
            "grid_template_areas": null,
            "grid_template_columns": null,
            "grid_template_rows": null,
            "height": null,
            "justify_content": null,
            "justify_items": null,
            "left": null,
            "margin": null,
            "max_height": null,
            "max_width": null,
            "min_height": null,
            "min_width": null,
            "object_fit": null,
            "object_position": null,
            "order": null,
            "overflow": null,
            "overflow_x": null,
            "overflow_y": null,
            "padding": null,
            "right": null,
            "top": null,
            "visibility": null,
            "width": null
          }
        },
        "d2a8357f64e1436eaa38e63a8d173f00": {
          "model_module": "@jupyter-widgets/controls",
          "model_name": "DescriptionStyleModel",
          "model_module_version": "1.5.0",
          "state": {
            "_model_module": "@jupyter-widgets/controls",
            "_model_module_version": "1.5.0",
            "_model_name": "DescriptionStyleModel",
            "_view_count": null,
            "_view_module": "@jupyter-widgets/base",
            "_view_module_version": "1.2.0",
            "_view_name": "StyleView",
            "description_width": ""
          }
        }
      }
    }
  },
  "cells": [
    {
      "cell_type": "code",
      "execution_count": null,
      "metadata": {
        "colab": {
          "base_uri": "https://localhost:8080/",
          "height": 36
        },
        "id": "0eEQ8wf8HyLz",
        "outputId": "3d73fe37-ea39-47fe-a302-a257f1f6014b"
      },
      "outputs": [
        {
          "output_type": "execute_result",
          "data": {
            "text/plain": [
              "'/device:GPU:0'"
            ],
            "application/vnd.google.colaboratory.intrinsic+json": {
              "type": "string"
            }
          },
          "metadata": {},
          "execution_count": 1
        }
      ],
      "source": [
        "import tensorflow as tf\n",
        "tf.test.gpu_device_name()"
      ]
    },
    {
      "cell_type": "code",
      "source": [
        "import tensorflow_datasets as tfds\n",
        "import tensorflow as tf\n",
        "import numpy as np\n",
        "import matplotlib.pyplot as plt"
      ],
      "metadata": {
        "id": "-yINJ8snIPHi"
      },
      "execution_count": null,
      "outputs": []
    },
    {
      "cell_type": "code",
      "source": [
        "tfds.list_builders()"
      ],
      "metadata": {
        "id": "uNps_DCQISea"
      },
      "execution_count": null,
      "outputs": []
    },
    {
      "cell_type": "code",
      "source": [
        "URL = \"https://1drv.ms/u/s!AmgKYzARBl5ca3HNaHIlzp_IXjs\"\n",
        "from base64 import b64encode\n",
        "base64Value = b64encode(URL.encode()).decode(\"UTF-8\")\n",
        "encodedUrl = \"u!\"+base64Value.replace('/','_').replace('+','-').strip(\"=\")\n",
        "DLURL = f\"https://api.onedrive.com/v1.0/shares/{encodedUrl}/root/content\"\n",
        "!wget $DLURL -O NWPU-RESISC45.rar"
      ],
      "metadata": {
        "id": "QZXoQohpJOLY",
        "colab": {
          "base_uri": "https://localhost:8080/"
        },
        "outputId": "aabf0bbb-7383-4336-b73b-6dc43857ea10"
      },
      "execution_count": null,
      "outputs": [
        {
          "output_type": "stream",
          "name": "stdout",
          "text": [
            "--2022-11-10 21:51:14--  https://api.onedrive.com/v1.0/shares/u!aHR0cHM6Ly8xZHJ2Lm1zL3UvcyFBbWdLWXpBUkJsNWNhM0hOYUhJbHpwX0lYanM/root/content\n",
            "Resolving api.onedrive.com (api.onedrive.com)... 13.107.42.12\n",
            "Connecting to api.onedrive.com (api.onedrive.com)|13.107.42.12|:443... connected.\n",
            "HTTP request sent, awaiting response... 302 Found\n",
            "Location: https://sov8mq.dm.files.1drv.com/y4m4JOwqH0JXOhy8Y8QgSbFce3DlJKhuMVclXqqhqAPeUMnn1oEZ1O3seAcXqhzrrwFny_Oo3NuyLN_baLTq-eVEyhipspKOBrUrPIv3qr0DZTPvrq4SYCFInkim-_j4wa3IB6RKdSPPJ8Dhzyo8ZDRYD2xMpVVnJnhnqoEG8eG9fcBag1-dvcl9GkCF4XSlDnneyxiPNVH2uDcwCo0H_n2zA/NWPU-RESISC45.rar [following]\n",
            "--2022-11-10 21:51:14--  https://sov8mq.dm.files.1drv.com/y4m4JOwqH0JXOhy8Y8QgSbFce3DlJKhuMVclXqqhqAPeUMnn1oEZ1O3seAcXqhzrrwFny_Oo3NuyLN_baLTq-eVEyhipspKOBrUrPIv3qr0DZTPvrq4SYCFInkim-_j4wa3IB6RKdSPPJ8Dhzyo8ZDRYD2xMpVVnJnhnqoEG8eG9fcBag1-dvcl9GkCF4XSlDnneyxiPNVH2uDcwCo0H_n2zA/NWPU-RESISC45.rar\n",
            "Resolving sov8mq.dm.files.1drv.com (sov8mq.dm.files.1drv.com)... 13.107.42.12\n",
            "Connecting to sov8mq.dm.files.1drv.com (sov8mq.dm.files.1drv.com)|13.107.42.12|:443... connected.\n",
            "HTTP request sent, awaiting response... 200 OK\n",
            "Length: 424381220 (405M) [application/x-rar-compressed]\n",
            "Saving to: ‘NWPU-RESISC45.rar’\n",
            "\n",
            "NWPU-RESISC45.rar   100%[===================>] 404.72M  39.1MB/s    in 19s     \n",
            "\n",
            "2022-11-10 21:51:33 (21.9 MB/s) - ‘NWPU-RESISC45.rar’ saved [424381220/424381220]\n",
            "\n"
          ]
        }
      ]
    },
    {
      "cell_type": "code",
      "source": [
        "from google.colab import drive\n",
        "drive.mount('/content/drive')"
      ],
      "metadata": {
        "id": "-W82mW2hA7Vb",
        "colab": {
          "base_uri": "https://localhost:8080/"
        },
        "outputId": "3d2898b3-e164-44d8-85e7-429ce9ba5f55"
      },
      "execution_count": null,
      "outputs": [
        {
          "output_type": "stream",
          "name": "stdout",
          "text": [
            "Mounted at /content/drive\n"
          ]
        }
      ]
    },
    {
      "cell_type": "code",
      "source": [
        "!gdown --id 1y2MhN3fc-ce9m3EsBf6xj8UUFaXB36bU\n",
        "!mkdir -p /content/drive/MyDrive/Colab\\ Notebooks\n",
        "!mv NWPU-RESISC45.rar /content/drive/MyDrive/Colab\\ Notebooks"
      ],
      "metadata": {
        "colab": {
          "base_uri": "https://localhost:8080/"
        },
        "id": "2_GWCcn7BljA",
        "outputId": "911d48e7-806e-4a34-c0e3-3e38994bf725"
      },
      "execution_count": null,
      "outputs": [
        {
          "output_type": "stream",
          "name": "stdout",
          "text": [
            "/usr/local/lib/python3.7/dist-packages/gdown/cli.py:131: FutureWarning: Option `--id` was deprecated in version 4.3.1 and will be removed in 5.0. You don't need to pass it anymore to use a file ID.\n",
            "  category=FutureWarning,\n",
            "Downloading...\n",
            "From: https://drive.google.com/uc?id=1y2MhN3fc-ce9m3EsBf6xj8UUFaXB36bU\n",
            "To: /content/NWPU-RESISC45.rar\n",
            "100% 424M/424M [00:01<00:00, 287MB/s]\n"
          ]
        }
      ]
    },
    {
      "cell_type": "code",
      "source": [
        "!mkdir -p /root/tensorflow_datasets/downloads/manual\n",
        "!cp /content/drive/MyDrive/Colab\\ Notebooks/NWPU-RESISC45.rar .\n",
        "!unrar x NWPU-RESISC45.rar /root/tensorflow_datasets/downloads/manual -idq -o+"
      ],
      "metadata": {
        "id": "TCbAE8WeJQtf"
      },
      "execution_count": null,
      "outputs": []
    },
    {
      "cell_type": "code",
      "source": [
        "tfds.load(\"resisc45\")"
      ],
      "metadata": {
        "id": "utkbt7QyJWnc",
        "colab": {
          "base_uri": "https://localhost:8080/",
          "height": 106,
          "referenced_widgets": [
            "0c5596d70c45424faf752c1e3365fcee",
            "5593d55fdefd40bbaf6e0902931c0ed5",
            "cab1699b57da4eb28aa5436e8f1e4501",
            "f9cf2236244f4e31aab45ade30af73dd",
            "e7e2a4fd340d4da1a8165681244b4c2f",
            "59c7b0ec6e4241409bab0f4e1d6c779a",
            "47f6e586cd0b4672a9bd9e79594a6435",
            "f4cff6ee113c46ddbaa4abf7a1e529ab",
            "99374ee6efdf44258513702533eab0be",
            "1d395fc99c414f00b9efdc39fb1a774c",
            "29bdf4c43ffa4f679da0a140720766a2",
            "dcda39285a6042da8c64c4a9d1f9c6b7",
            "7f8090b8b750406a952a4bc8e7cc86a3",
            "d79d8db4a92e41a3b95ae7c1709628a7",
            "f09359063ce74797b713b30f0b3db617",
            "8cb8f300e048471faadc8a7196236e0d",
            "c0bb8fce53bf45f9974fe6f5e7b32950",
            "d3795de1e9854014b257ea79a37fe3b0",
            "47c0299785614584a8b4ac99b1b00579",
            "c5012dc15c5f46f680fbbe33b371e9f2",
            "55cd7ae43b3a4c85bbaaddf1b21b4ce2",
            "7a35cd0f372848e693b98c288c5a8e8e",
            "5cdfc755f1fa4ad5a87a99424eac6ccf",
            "ee031fc02b1a4e22addd564eb4678332",
            "0137a684f7a24baa8d2a01dbc7f1b782",
            "3a22b9b8ccff4778b10bbab92d37d87d",
            "addd07bd6b864660a931d2e52d4e4af2",
            "8991a9a2993a4832b29c83ae8eff1537",
            "a95d8f27dc9c45c691ae7de1b19dce60",
            "a5bba637833d4d6798c7d635c78c46e9",
            "5d02fd48448742caba8622fd50b473ed",
            "65a379a471ed4f9f9aa8283f7a4c90d0",
            "d2a8357f64e1436eaa38e63a8d173f00"
          ]
        },
        "outputId": "351fc131-3c23-4073-89e0-2d54247a7de2"
      },
      "execution_count": null,
      "outputs": [
        {
          "output_type": "stream",
          "name": "stdout",
          "text": [
            "Downloading and preparing dataset Unknown size (download: Unknown size, generated: Unknown size, total: Unknown size) to ~/tensorflow_datasets/resisc45/3.0.0...\n"
          ]
        },
        {
          "output_type": "display_data",
          "data": {
            "text/plain": [
              "Generating splits...:   0%|          | 0/1 [00:00<?, ? splits/s]"
            ],
            "application/vnd.jupyter.widget-view+json": {
              "version_major": 2,
              "version_minor": 0,
              "model_id": "0c5596d70c45424faf752c1e3365fcee"
            }
          },
          "metadata": {}
        },
        {
          "output_type": "display_data",
          "data": {
            "text/plain": [
              "Generating train examples...:   0%|          | 0/31500 [00:00<?, ? examples/s]"
            ],
            "application/vnd.jupyter.widget-view+json": {
              "version_major": 2,
              "version_minor": 0,
              "model_id": "dcda39285a6042da8c64c4a9d1f9c6b7"
            }
          },
          "metadata": {}
        },
        {
          "output_type": "display_data",
          "data": {
            "text/plain": [
              "Shuffling ~/tensorflow_datasets/resisc45/3.0.0.incompleteHVU96I/resisc45-train.tfrecord*...:   0%|          | …"
            ],
            "application/vnd.jupyter.widget-view+json": {
              "version_major": 2,
              "version_minor": 0,
              "model_id": "5cdfc755f1fa4ad5a87a99424eac6ccf"
            }
          },
          "metadata": {}
        },
        {
          "output_type": "stream",
          "name": "stdout",
          "text": [
            "Dataset resisc45 downloaded and prepared to ~/tensorflow_datasets/resisc45/3.0.0. Subsequent calls will reuse this data.\n"
          ]
        },
        {
          "output_type": "execute_result",
          "data": {
            "text/plain": [
              "{Split('train'): <PrefetchDataset element_spec={'filename': TensorSpec(shape=(), dtype=tf.string, name=None), 'image': TensorSpec(shape=(256, 256, 3), dtype=tf.uint8, name=None), 'label': TensorSpec(shape=(), dtype=tf.int64, name=None)}>}"
            ]
          },
          "metadata": {},
          "execution_count": 7
        }
      ]
    },
    {
      "cell_type": "markdown",
      "source": [
        "# ---------------------------------------------------------------------------------------------------------------------------------\n"
      ],
      "metadata": {
        "id": "NRH49inHaRLx"
      }
    },
    {
      "cell_type": "code",
      "source": [
        "import numpy as np\n",
        "import os\n",
        "import PIL\n",
        "import PIL.Image\n",
        "import tensorflow as tf\n",
        "import tensorflow_datasets as tfds"
      ],
      "metadata": {
        "id": "Nbo4igLSaVh-"
      },
      "execution_count": null,
      "outputs": []
    },
    {
      "cell_type": "code",
      "source": [
        "import pathlib\n",
        "data_dir = '/root/tensorflow_datasets/downloads/manual/NWPU-RESISC45/'\n",
        "data_dir = pathlib.Path(data_dir)\n",
        "image_count = len(list(data_dir.glob('*/*.jpg')))\n",
        "print(image_count)"
      ],
      "metadata": {
        "id": "kg8ADz7yayQF",
        "colab": {
          "base_uri": "https://localhost:8080/"
        },
        "outputId": "ff151838-c3e3-4d25-87b7-da8cd161f665"
      },
      "execution_count": null,
      "outputs": [
        {
          "output_type": "stream",
          "name": "stdout",
          "text": [
            "31500\n"
          ]
        }
      ]
    },
    {
      "cell_type": "code",
      "source": [
        "batch_size = 32\n",
        "img_height = 224\n",
        "img_width = 224"
      ],
      "metadata": {
        "id": "1nuR_ym4bRt9"
      },
      "execution_count": null,
      "outputs": []
    },
    {
      "cell_type": "code",
      "source": [
        "train_ds = tf.keras.utils.image_dataset_from_directory(\n",
        "  data_dir,\n",
        "  validation_split=0.2,\n",
        "  subset=\"training\",\n",
        "  seed=123,\n",
        "  image_size=(img_height, img_width),\n",
        "  batch_size=batch_size)"
      ],
      "metadata": {
        "id": "GOPUCmQ4bXsO",
        "colab": {
          "base_uri": "https://localhost:8080/"
        },
        "outputId": "1736a852-19dc-4148-bb23-03c7aedc6c61"
      },
      "execution_count": null,
      "outputs": [
        {
          "output_type": "stream",
          "name": "stdout",
          "text": [
            "Found 31500 files belonging to 45 classes.\n",
            "Using 25200 files for training.\n"
          ]
        }
      ]
    },
    {
      "cell_type": "code",
      "source": [
        "val_ds = tf.keras.utils.image_dataset_from_directory(\n",
        "  data_dir,\n",
        "  validation_split=0.2,\n",
        "  subset=\"validation\",\n",
        "  seed=123,\n",
        "  image_size=(img_height, img_width),\n",
        "  batch_size=batch_size)"
      ],
      "metadata": {
        "id": "H3m3CaUzfx0T",
        "colab": {
          "base_uri": "https://localhost:8080/"
        },
        "outputId": "85e5fcc9-3179-4f4f-a3f4-f27fcc17f427"
      },
      "execution_count": null,
      "outputs": [
        {
          "output_type": "stream",
          "name": "stdout",
          "text": [
            "Found 31500 files belonging to 45 classes.\n",
            "Using 6300 files for validation.\n"
          ]
        }
      ]
    },
    {
      "cell_type": "code",
      "source": [
        "class_names = train_ds.class_names\n",
        "class_names"
      ],
      "metadata": {
        "id": "6L2N5OzrAExk",
        "colab": {
          "base_uri": "https://localhost:8080/"
        },
        "outputId": "9174793f-5353-4f28-c471-1e8d12d33f0d"
      },
      "execution_count": null,
      "outputs": [
        {
          "output_type": "execute_result",
          "data": {
            "text/plain": [
              "['airplane',\n",
              " 'airport',\n",
              " 'baseball_diamond',\n",
              " 'basketball_court',\n",
              " 'beach',\n",
              " 'bridge',\n",
              " 'chaparral',\n",
              " 'church',\n",
              " 'circular_farmland',\n",
              " 'cloud',\n",
              " 'commercial_area',\n",
              " 'dense_residential',\n",
              " 'desert',\n",
              " 'forest',\n",
              " 'freeway',\n",
              " 'golf_course',\n",
              " 'ground_track_field',\n",
              " 'harbor',\n",
              " 'industrial_area',\n",
              " 'intersection',\n",
              " 'island',\n",
              " 'lake',\n",
              " 'meadow',\n",
              " 'medium_residential',\n",
              " 'mobile_home_park',\n",
              " 'mountain',\n",
              " 'overpass',\n",
              " 'palace',\n",
              " 'parking_lot',\n",
              " 'railway',\n",
              " 'railway_station',\n",
              " 'rectangular_farmland',\n",
              " 'river',\n",
              " 'roundabout',\n",
              " 'runway',\n",
              " 'sea_ice',\n",
              " 'ship',\n",
              " 'snowberg',\n",
              " 'sparse_residential',\n",
              " 'stadium',\n",
              " 'storage_tank',\n",
              " 'tennis_court',\n",
              " 'terrace',\n",
              " 'thermal_power_station',\n",
              " 'wetland']"
            ]
          },
          "metadata": {},
          "execution_count": 13
        }
      ]
    },
    {
      "cell_type": "code",
      "source": [
        "normalization_layer = tf.keras.layers.experimental.preprocessing.Rescaling(1/255)"
      ],
      "metadata": {
        "id": "LF_A6KhxbtP2"
      },
      "execution_count": null,
      "outputs": []
    },
    {
      "cell_type": "code",
      "source": [
        "normalized_ds = train_ds.map(lambda x, y: (normalization_layer(x), y))\n",
        "image_batch, labels_batch = next(iter(normalized_ds))\n",
        "first_image = image_batch[0]\n",
        "# Notice the pixel values are now in `[0,1]`.\n",
        "print(np.min(first_image), np.max(first_image))\n",
        "train_ds"
      ],
      "metadata": {
        "id": "GiTG3ntZbxG2",
        "outputId": "4c7dddab-35ed-4350-e11a-4da46bd9b21b",
        "colab": {
          "base_uri": "https://localhost:8080/"
        }
      },
      "execution_count": null,
      "outputs": [
        {
          "output_type": "stream",
          "name": "stdout",
          "text": [
            "0.0 0.96214443\n"
          ]
        },
        {
          "output_type": "execute_result",
          "data": {
            "text/plain": [
              "<BatchDataset element_spec=(TensorSpec(shape=(None, 224, 224, 3), dtype=tf.float32, name=None), TensorSpec(shape=(None,), dtype=tf.int32, name=None))>"
            ]
          },
          "metadata": {},
          "execution_count": 29
        }
      ]
    },
    {
      "cell_type": "code",
      "source": [
        "AUTOTUNE = tf.data.AUTOTUNE\n",
        "#train_ds = train_ds.cache().prefetch(buffer_size=AUTOTUNE)\n",
        "#val_ds = val_ds.cache().prefetch(buffer_size=AUTOTUNE)\n"
      ],
      "metadata": {
        "id": "llUr5NKDbzR9"
      },
      "execution_count": null,
      "outputs": []
    },
    {
      "cell_type": "code",
      "source": [
        "num_classes = 45\n",
        "\n",
        "model = tf.keras.Sequential([\n",
        "  tf.keras.layers.Rescaling(1./255),\n",
        "  tf.keras.layers.Conv2D(32, 3, activation='relu'),\n",
        "  tf.keras.layers.MaxPooling2D(),\n",
        "  tf.keras.layers.Conv2D(32, 3, activation='relu'),\n",
        "  tf.keras.layers.MaxPooling2D(),\n",
        "  tf.keras.layers.Conv2D(32, 3, activation='relu'),\n",
        "  tf.keras.layers.MaxPooling2D(),\n",
        "  tf.keras.layers.Flatten(),\n",
        "  tf.keras.layers.Dense(128, activation='relu'),\n",
        "  tf.keras.layers.Dense(num_classes)\n",
        "])"
      ],
      "metadata": {
        "id": "33trAvSvb11X"
      },
      "execution_count": null,
      "outputs": []
    },
    {
      "cell_type": "markdown",
      "source": [
        "## INITIAL RUN"
      ],
      "metadata": {
        "id": "mFWOOFvcCM8D"
      }
    },
    {
      "cell_type": "code",
      "source": [
        "model.compile(\n",
        "  optimizer='adam',\n",
        "  loss=tf.keras.losses.SparseCategoricalCrossentropy(from_logits=True),\n",
        "  metrics=['accuracy'])"
      ],
      "metadata": {
        "id": "F-VVuGRnb60d"
      },
      "execution_count": null,
      "outputs": []
    },
    {
      "cell_type": "code",
      "source": [
        "model.fit(\n",
        "  train_ds,\n",
        "  validation_data=val_ds,\n",
        "  epochs=10\n",
        ")"
      ],
      "metadata": {
        "colab": {
          "base_uri": "https://localhost:8080/"
        },
        "id": "P22b8Wf1DNS4",
        "outputId": "bc0231c7-c0e5-40d8-9953-777d440cc627"
      },
      "execution_count": null,
      "outputs": [
        {
          "output_type": "stream",
          "name": "stdout",
          "text": [
            "Epoch 1/10\n",
            "1575/1575 [==============================] - 68s 37ms/step - loss: 2.7640 - accuracy: 0.2385 - val_loss: 2.1144 - val_accuracy: 0.3832\n",
            "Epoch 2/10\n",
            "1575/1575 [==============================] - 57s 36ms/step - loss: 1.7371 - accuracy: 0.4947 - val_loss: 1.9564 - val_accuracy: 0.4590\n",
            "Epoch 3/10\n",
            "1575/1575 [==============================] - 60s 38ms/step - loss: 1.0655 - accuracy: 0.6839 - val_loss: 2.2523 - val_accuracy: 0.4627\n",
            "Epoch 4/10\n",
            "1575/1575 [==============================] - 58s 37ms/step - loss: 0.5826 - accuracy: 0.8237 - val_loss: 3.0341 - val_accuracy: 0.4444\n",
            "Epoch 5/10\n",
            "1575/1575 [==============================] - 59s 37ms/step - loss: 0.3313 - accuracy: 0.9002 - val_loss: 3.7305 - val_accuracy: 0.4224\n",
            "Epoch 6/10\n",
            "1575/1575 [==============================] - 59s 38ms/step - loss: 0.2407 - accuracy: 0.9284 - val_loss: 4.4716 - val_accuracy: 0.4171\n",
            "Epoch 7/10\n",
            "1575/1575 [==============================] - 58s 36ms/step - loss: 0.1923 - accuracy: 0.9442 - val_loss: 4.7234 - val_accuracy: 0.4135\n",
            "Epoch 8/10\n",
            "1575/1575 [==============================] - 57s 36ms/step - loss: 0.1427 - accuracy: 0.9579 - val_loss: 5.5112 - val_accuracy: 0.3983\n",
            "Epoch 9/10\n",
            "1575/1575 [==============================] - 57s 36ms/step - loss: 0.1323 - accuracy: 0.9610 - val_loss: 5.8304 - val_accuracy: 0.4152\n",
            "Epoch 10/10\n",
            "1575/1575 [==============================] - 59s 37ms/step - loss: 0.1377 - accuracy: 0.9607 - val_loss: 5.8624 - val_accuracy: 0.3886\n"
          ]
        },
        {
          "output_type": "execute_result",
          "data": {
            "text/plain": [
              "<keras.callbacks.History at 0x7f3290b11410>"
            ]
          },
          "metadata": {},
          "execution_count": 18
        }
      ]
    },
    {
      "cell_type": "markdown",
      "source": [
        "## RUN 2: LESS NEURONS, SO LESS OVERFITTING "
      ],
      "metadata": {
        "id": "Ct4LMnPqDHTr"
      }
    },
    {
      "cell_type": "code",
      "source": [
        "model = tf.keras.Sequential([\n",
        "  tf.keras.layers.Rescaling(1./255),\n",
        "  tf.keras.layers.Conv2D(16, 3, activation='relu'),\n",
        "  tf.keras.layers.MaxPooling2D(),\n",
        "  tf.keras.layers.Conv2D(16, 3, activation='relu'),\n",
        "  tf.keras.layers.MaxPooling2D(),\n",
        "  tf.keras.layers.Conv2D(8, 3, activation='relu'),\n",
        "  tf.keras.layers.MaxPooling2D(),\n",
        "  tf.keras.layers.Flatten(),\n",
        "  tf.keras.layers.Dense(128, activation='relu'),\n",
        "  tf.keras.layers.Dense(num_classes)\n",
        "])"
      ],
      "metadata": {
        "id": "XHAElZtYCSJA"
      },
      "execution_count": null,
      "outputs": []
    },
    {
      "cell_type": "code",
      "source": [
        "model.compile(\n",
        "  optimizer='adam',\n",
        "  loss=tf.keras.losses.SparseCategoricalCrossentropy(from_logits=True),\n",
        "  metrics=['accuracy'])"
      ],
      "metadata": {
        "id": "H9-XSvqBEHZC"
      },
      "execution_count": null,
      "outputs": []
    },
    {
      "cell_type": "code",
      "source": [
        "model.fit(\n",
        "  train_ds,\n",
        "  validation_data=val_ds,\n",
        "  epochs=10\n",
        ")"
      ],
      "metadata": {
        "colab": {
          "base_uri": "https://localhost:8080/"
        },
        "id": "khP1qTqVE4DU",
        "outputId": "7f06faf3-224f-484a-e5dd-0f8d246911da"
      },
      "execution_count": null,
      "outputs": [
        {
          "output_type": "stream",
          "name": "stdout",
          "text": [
            "Epoch 1/10\n",
            "1575/1575 [==============================] - 44s 28ms/step - loss: 2.8497 - accuracy: 0.2151 - val_loss: 2.4064 - val_accuracy: 0.2967\n",
            "Epoch 2/10\n",
            "1575/1575 [==============================] - 42s 27ms/step - loss: 2.1667 - accuracy: 0.3773 - val_loss: 2.3331 - val_accuracy: 0.3405\n",
            "Epoch 3/10\n",
            "1575/1575 [==============================] - 41s 26ms/step - loss: 1.7167 - accuracy: 0.4991 - val_loss: 2.3017 - val_accuracy: 0.3759\n",
            "Epoch 4/10\n",
            "1575/1575 [==============================] - 42s 27ms/step - loss: 1.3209 - accuracy: 0.6118 - val_loss: 2.6441 - val_accuracy: 0.3749\n",
            "Epoch 5/10\n",
            "1575/1575 [==============================] - 41s 26ms/step - loss: 0.9442 - accuracy: 0.7178 - val_loss: 3.3604 - val_accuracy: 0.3392\n",
            "Epoch 6/10\n",
            "1575/1575 [==============================] - 40s 26ms/step - loss: 0.6490 - accuracy: 0.8032 - val_loss: 4.0323 - val_accuracy: 0.3435\n",
            "Epoch 7/10\n",
            "1575/1575 [==============================] - 41s 26ms/step - loss: 0.4607 - accuracy: 0.8615 - val_loss: 4.6828 - val_accuracy: 0.3435\n",
            "Epoch 8/10\n",
            "1575/1575 [==============================] - 41s 26ms/step - loss: 0.3435 - accuracy: 0.8983 - val_loss: 5.3722 - val_accuracy: 0.3329\n",
            "Epoch 9/10\n",
            "1575/1575 [==============================] - 42s 26ms/step - loss: 0.2771 - accuracy: 0.9160 - val_loss: 6.3140 - val_accuracy: 0.3221\n",
            "Epoch 10/10\n",
            "1575/1575 [==============================] - 41s 26ms/step - loss: 0.2454 - accuracy: 0.9264 - val_loss: 5.9439 - val_accuracy: 0.3217\n"
          ]
        },
        {
          "output_type": "execute_result",
          "data": {
            "text/plain": [
              "<keras.callbacks.History at 0x7f328fd9e090>"
            ]
          },
          "metadata": {},
          "execution_count": 21
        }
      ]
    },
    {
      "cell_type": "markdown",
      "source": [
        "## RUN 3: MORE NEURONS, SINCE WITH LESS THERE IS LESS ACCURACY"
      ],
      "metadata": {
        "id": "Zt7_OOfWE0DE"
      }
    },
    {
      "cell_type": "code",
      "source": [
        "model = tf.keras.Sequential([\n",
        "  tf.keras.layers.Rescaling(1./255),\n",
        "  tf.keras.layers.Conv2D(64, 3, activation='relu'),\n",
        "  tf.keras.layers.MaxPooling2D(),\n",
        "  tf.keras.layers.Conv2D(64, 3, activation='relu'),\n",
        "  tf.keras.layers.MaxPooling2D(),\n",
        "  tf.keras.layers.Conv2D(32, 3, activation='relu'),\n",
        "  tf.keras.layers.MaxPooling2D(),\n",
        "  tf.keras.layers.Flatten(),\n",
        "  tf.keras.layers.Dense(128, activation='relu'),\n",
        "  tf.keras.layers.Dense(num_classes)\n",
        "])"
      ],
      "metadata": {
        "id": "5R91kJyqEznu"
      },
      "execution_count": null,
      "outputs": []
    },
    {
      "cell_type": "code",
      "source": [
        "model.compile(\n",
        "  optimizer='adam',\n",
        "  loss=tf.keras.losses.SparseCategoricalCrossentropy(from_logits=True),\n",
        "  metrics=['accuracy'])"
      ],
      "metadata": {
        "id": "YIySs6N4FAYC"
      },
      "execution_count": null,
      "outputs": []
    },
    {
      "cell_type": "code",
      "source": [
        "model.fit(\n",
        "  train_ds,\n",
        "  validation_data=val_ds,\n",
        "  epochs=10\n",
        ")"
      ],
      "metadata": {
        "colab": {
          "base_uri": "https://localhost:8080/"
        },
        "id": "CIcruchBFA7y",
        "outputId": "299dee99-4f91-48de-966d-d81ab1245a97"
      },
      "execution_count": null,
      "outputs": [
        {
          "output_type": "stream",
          "name": "stdout",
          "text": [
            "Epoch 1/10\n",
            "1575/1575 [==============================] - 87s 55ms/step - loss: 3.8085 - accuracy: 0.0203 - val_loss: 3.8080 - val_accuracy: 0.0211\n",
            "Epoch 2/10\n",
            "1575/1575 [==============================] - 86s 54ms/step - loss: 3.8074 - accuracy: 0.0209 - val_loss: 3.7945 - val_accuracy: 0.0183\n",
            "Epoch 3/10\n",
            "1575/1575 [==============================] - 86s 55ms/step - loss: 3.8074 - accuracy: 0.0213 - val_loss: 3.8083 - val_accuracy: 0.0211\n",
            "Epoch 4/10\n",
            "1575/1575 [==============================] - 87s 55ms/step - loss: 3.8081 - accuracy: 0.0210 - val_loss: 3.8090 - val_accuracy: 0.0211\n",
            "Epoch 5/10\n",
            "1575/1575 [==============================] - 86s 55ms/step - loss: 3.8075 - accuracy: 0.0199 - val_loss: 3.8082 - val_accuracy: 0.0197\n",
            "Epoch 6/10\n",
            "1575/1575 [==============================] - 87s 55ms/step - loss: 3.8073 - accuracy: 0.0210 - val_loss: 3.8082 - val_accuracy: 0.0197\n",
            "Epoch 7/10\n",
            "1575/1575 [==============================] - 86s 55ms/step - loss: 3.8073 - accuracy: 0.0206 - val_loss: 3.8082 - val_accuracy: 0.0211\n",
            "Epoch 8/10\n",
            "1575/1575 [==============================] - 86s 54ms/step - loss: 3.8073 - accuracy: 0.0204 - val_loss: 3.8082 - val_accuracy: 0.0211\n",
            "Epoch 9/10\n",
            "1575/1575 [==============================] - 86s 54ms/step - loss: 3.8073 - accuracy: 0.0197 - val_loss: 3.8082 - val_accuracy: 0.0211\n",
            "Epoch 10/10\n",
            "1575/1575 [==============================] - 84s 53ms/step - loss: 3.8073 - accuracy: 0.0202 - val_loss: 3.8082 - val_accuracy: 0.0211\n"
          ]
        },
        {
          "output_type": "execute_result",
          "data": {
            "text/plain": [
              "<keras.callbacks.History at 0x7f328fc6f150>"
            ]
          },
          "metadata": {},
          "execution_count": 24
        }
      ]
    },
    {
      "cell_type": "markdown",
      "source": [
        "## RUN 4: KEEP THE LARGE ARCHITECTURE AND REDUCE THE LEARNING RATE THROUGH THE OPTIMIZER."
      ],
      "metadata": {
        "id": "wtLC2cR3Gk_y"
      }
    },
    {
      "cell_type": "code",
      "source": [
        "batch_size = 32\n",
        "model = tf.keras.Sequential([\n",
        "  tf.keras.layers.Rescaling(1./255),\n",
        "  tf.keras.layers.Conv2D(16, 3, activation='relu'),\n",
        "  tf.keras.layers.MaxPooling2D(),\n",
        "  tf.keras.layers.Conv2D(16, 3, activation='relu'),\n",
        "  tf.keras.layers.MaxPooling2D(),\n",
        "  tf.keras.layers.Conv2D(8, 3, activation='relu'),\n",
        "  tf.keras.layers.MaxPooling2D(),\n",
        "  tf.keras.layers.Flatten(),\n",
        "  tf.keras.layers.Dense(128, activation='relu'),\n",
        "  tf.keras.layers.Dense(num_classes)\n",
        "])"
      ],
      "metadata": {
        "id": "MmcV4nmvGtBf"
      },
      "execution_count": null,
      "outputs": []
    },
    {
      "cell_type": "code",
      "source": [
        "from tensorflow import keras\n",
        "opt = keras.optimizers.Adam(learning_rate=0.005)\n",
        "model.compile(\n",
        "  optimizer=opt,\n",
        "  loss=tf.keras.losses.SparseCategoricalCrossentropy(from_logits=True),\n",
        "  metrics=['accuracy'])"
      ],
      "metadata": {
        "id": "K1KLTJTsGvOn"
      },
      "execution_count": null,
      "outputs": []
    },
    {
      "cell_type": "code",
      "source": [
        "model.fit(\n",
        "  train_ds,\n",
        "  validation_data=val_ds,\n",
        "  epochs=10\n",
        ")"
      ],
      "metadata": {
        "colab": {
          "base_uri": "https://localhost:8080/"
        },
        "id": "2vZFmYguGwWi",
        "outputId": "11f2971e-1e31-4e3e-d909-9c9b4b8d28fb"
      },
      "execution_count": null,
      "outputs": [
        {
          "output_type": "stream",
          "name": "stdout",
          "text": [
            "Epoch 1/10\n",
            "1575/1575 [==============================] - 85s 54ms/step - loss: 3.8095 - accuracy: 0.0212 - val_loss: 3.8105 - val_accuracy: 0.0211\n",
            "Epoch 2/10\n",
            "1575/1575 [==============================] - 84s 54ms/step - loss: 3.8096 - accuracy: 0.0215 - val_loss: 3.8108 - val_accuracy: 0.0211\n",
            "Epoch 3/10\n",
            "1575/1575 [==============================] - 85s 54ms/step - loss: 3.8095 - accuracy: 0.0219 - val_loss: 3.8107 - val_accuracy: 0.0211\n",
            "Epoch 4/10\n",
            "1575/1575 [==============================] - 84s 53ms/step - loss: 3.8096 - accuracy: 0.0215 - val_loss: 3.8107 - val_accuracy: 0.0211\n",
            "Epoch 5/10\n",
            "1575/1575 [==============================] - 85s 54ms/step - loss: 3.8095 - accuracy: 0.0218 - val_loss: 3.8107 - val_accuracy: 0.0211\n",
            "Epoch 6/10\n",
            "1575/1575 [==============================] - 84s 53ms/step - loss: 3.8096 - accuracy: 0.0221 - val_loss: 3.8108 - val_accuracy: 0.0211\n",
            "Epoch 7/10\n",
            "1575/1575 [==============================] - 84s 53ms/step - loss: 3.8095 - accuracy: 0.0217 - val_loss: 3.8106 - val_accuracy: 0.0211\n",
            "Epoch 8/10\n",
            "1575/1575 [==============================] - 84s 53ms/step - loss: 3.8096 - accuracy: 0.0221 - val_loss: 3.8107 - val_accuracy: 0.0211\n",
            "Epoch 9/10\n",
            "1575/1575 [==============================] - 85s 54ms/step - loss: 3.8095 - accuracy: 0.0219 - val_loss: 3.8107 - val_accuracy: 0.0211\n",
            "Epoch 10/10\n",
            "1575/1575 [==============================] - 85s 54ms/step - loss: 3.8095 - accuracy: 0.0223 - val_loss: 3.8108 - val_accuracy: 0.0211\n"
          ]
        },
        {
          "output_type": "execute_result",
          "data": {
            "text/plain": [
              "<keras.callbacks.History at 0x7f328f8e5e10>"
            ]
          },
          "metadata": {},
          "execution_count": 28
        }
      ]
    },
    {
      "cell_type": "markdown",
      "source": [
        "## RUN 5: LEARNING RATE IS INCREASED, IT PROBABLY FELL INTO LOCAL MINIMA, INSTEAD OF GLOBAL MINIMA"
      ],
      "metadata": {
        "id": "5LOvPr3jIVD9"
      }
    },
    {
      "cell_type": "code",
      "source": [
        "model = tf.keras.Sequential([\n",
        "  tf.keras.layers.Rescaling(1./255),\n",
        "  tf.keras.layers.Conv2D(16, 3, activation='relu'),\n",
        "  tf.keras.layers.MaxPooling2D(),\n",
        "  tf.keras.layers.Conv2D(16, 3, activation='relu'),\n",
        "  tf.keras.layers.MaxPooling2D(),\n",
        "  tf.keras.layers.Conv2D(8, 3, activation='relu'),\n",
        "  tf.keras.layers.MaxPooling2D(),\n",
        "  tf.keras.layers.Flatten(),\n",
        "  tf.keras.layers.Dense(128, activation='relu'),\n",
        "  tf.keras.layers.Dense(num_classes)\n",
        "])"
      ],
      "metadata": {
        "id": "Lehyi5veIc9G"
      },
      "execution_count": null,
      "outputs": []
    },
    {
      "cell_type": "code",
      "source": [
        "from tensorflow import keras\n",
        "opt = keras.optimizers.Adam(learning_rate=0.1)\n",
        "model.compile(\n",
        "  optimizer=opt,\n",
        "  loss=tf.keras.losses.SparseCategoricalCrossentropy(from_logits=True),\n",
        "  metrics=['accuracy'])"
      ],
      "metadata": {
        "id": "sYxZ1KKIIfCj"
      },
      "execution_count": null,
      "outputs": []
    },
    {
      "cell_type": "code",
      "source": [
        "model.fit(\n",
        "  train_ds,\n",
        "  validation_data=val_ds,\n",
        "  epochs=10\n",
        ")"
      ],
      "metadata": {
        "colab": {
          "base_uri": "https://localhost:8080/"
        },
        "id": "wiqDpllrIiI6",
        "outputId": "d9caf4db-784e-4d7d-960a-1dfd7a0b7c99"
      },
      "execution_count": null,
      "outputs": [
        {
          "output_type": "stream",
          "name": "stdout",
          "text": [
            "Epoch 1/10\n",
            "1575/1575 [==============================] - 40s 25ms/step - loss: 5.5920 - accuracy: 0.0218 - val_loss: 3.9575 - val_accuracy: 0.0243\n",
            "Epoch 2/10\n",
            "1575/1575 [==============================] - 40s 25ms/step - loss: 3.8491 - accuracy: 0.0224 - val_loss: 3.9535 - val_accuracy: 0.0224\n",
            "Epoch 3/10\n",
            "1575/1575 [==============================] - 40s 25ms/step - loss: 3.8463 - accuracy: 0.0225 - val_loss: 3.9418 - val_accuracy: 0.0224\n",
            "Epoch 4/10\n",
            "1575/1575 [==============================] - 39s 25ms/step - loss: 3.8467 - accuracy: 0.0224 - val_loss: 3.9542 - val_accuracy: 0.0224\n",
            "Epoch 5/10\n",
            "1575/1575 [==============================] - 41s 26ms/step - loss: 3.8470 - accuracy: 0.0219 - val_loss: 3.9491 - val_accuracy: 0.0224\n",
            "Epoch 6/10\n",
            "1575/1575 [==============================] - 40s 25ms/step - loss: 3.8473 - accuracy: 0.0222 - val_loss: 3.9545 - val_accuracy: 0.0224\n",
            "Epoch 7/10\n",
            "1575/1575 [==============================] - 40s 25ms/step - loss: 3.8466 - accuracy: 0.0227 - val_loss: 3.9512 - val_accuracy: 0.0224\n",
            "Epoch 8/10\n",
            "1575/1575 [==============================] - 40s 25ms/step - loss: 3.8469 - accuracy: 0.0212 - val_loss: 3.9477 - val_accuracy: 0.0224\n",
            "Epoch 9/10\n",
            "1575/1575 [==============================] - 40s 25ms/step - loss: 3.8463 - accuracy: 0.0225 - val_loss: 3.9537 - val_accuracy: 0.0224\n",
            "Epoch 10/10\n",
            "1575/1575 [==============================] - 40s 25ms/step - loss: 3.8475 - accuracy: 0.0215 - val_loss: 3.9472 - val_accuracy: 0.0224\n"
          ]
        },
        {
          "output_type": "execute_result",
          "data": {
            "text/plain": [
              "<keras.callbacks.History at 0x7f328fe09210>"
            ]
          },
          "metadata": {},
          "execution_count": 31
        }
      ]
    },
    {
      "cell_type": "markdown",
      "source": [
        "## RUN 6. USE L1 AND L2 REGULARIZATION. THE LEARNING RATE WILL BE KEPT LIKE THE INITIAL RUN. THE ARCHITECTURE SIZE WILL STILL BE THE INITIAL ONE"
      ],
      "metadata": {
        "id": "PVJTwxxHJ2Rd"
      }
    },
    {
      "cell_type": "code",
      "source": [
        "from tensorflow.keras.regularizers import l1_l2\n",
        "\n",
        "model = tf.keras.Sequential([\n",
        "  tf.keras.layers.Rescaling(1./255),\n",
        "  tf.keras.layers.Conv2D(32, 3, activation='relu',kernel_regularizer = l1_l2(l1 = 0.0, l2 = 0.0001)),\n",
        "  tf.keras.layers.MaxPooling2D(),\n",
        "  tf.keras.layers.Conv2D(32, 3, activation='relu',kernel_regularizer = l1_l2(l1 = 0.0, l2 = 0.0001)),\n",
        "  tf.keras.layers.MaxPooling2D(),\n",
        "  tf.keras.layers.Conv2D(32, 3, activation='relu',kernel_regularizer = l1_l2(l1 = 0.0, l2 = 0.0001)),\n",
        "  tf.keras.layers.MaxPooling2D(),\n",
        "  tf.keras.layers.Flatten(),\n",
        "  tf.keras.layers.Dense(128, activation='relu'),\n",
        "  tf.keras.layers.Dense(num_classes)\n",
        "])"
      ],
      "metadata": {
        "id": "6td7heZbKC_D"
      },
      "execution_count": null,
      "outputs": []
    },
    {
      "cell_type": "code",
      "source": [
        "from tensorflow import keras\n",
        "model.compile(\n",
        "  optimizer='adam',\n",
        "  loss=tf.keras.losses.SparseCategoricalCrossentropy(from_logits=True),\n",
        "  metrics=['accuracy'])"
      ],
      "metadata": {
        "id": "2BCDzfn-KExo"
      },
      "execution_count": null,
      "outputs": []
    },
    {
      "cell_type": "markdown",
      "source": [
        "## RUN 7: CHANGE OF ACTIVATION FUNCTIONS / SIGMOID IS THE FIRST TO BE TRIED."
      ],
      "metadata": {
        "id": "dw2sGVIsLtqK"
      }
    },
    {
      "cell_type": "code",
      "source": [
        "model.fit(\n",
        "  train_ds,\n",
        "  validation_data=val_ds,\n",
        "  epochs=10\n",
        ")"
      ],
      "metadata": {
        "colab": {
          "base_uri": "https://localhost:8080/"
        },
        "id": "kVDEmkvwKHmV",
        "outputId": "f10b893f-e7e2-4bd3-af58-f712d0eff1d2"
      },
      "execution_count": null,
      "outputs": [
        {
          "output_type": "stream",
          "name": "stdout",
          "text": [
            "Epoch 1/10\n",
            "1575/1575 [==============================] - 57s 36ms/step - loss: 2.6673 - accuracy: 0.2573 - val_loss: 2.1852 - val_accuracy: 0.3724\n",
            "Epoch 2/10\n",
            "1575/1575 [==============================] - 55s 35ms/step - loss: 1.8319 - accuracy: 0.4720 - val_loss: 2.0227 - val_accuracy: 0.4406\n",
            "Epoch 3/10\n",
            "1575/1575 [==============================] - 56s 35ms/step - loss: 1.1867 - accuracy: 0.6575 - val_loss: 2.3461 - val_accuracy: 0.4260\n",
            "Epoch 4/10\n",
            "1575/1575 [==============================] - 56s 36ms/step - loss: 0.6894 - accuracy: 0.7984 - val_loss: 3.1873 - val_accuracy: 0.4105\n",
            "Epoch 5/10\n",
            "1575/1575 [==============================] - 56s 36ms/step - loss: 0.4141 - accuracy: 0.8814 - val_loss: 4.0214 - val_accuracy: 0.3817\n",
            "Epoch 6/10\n",
            "1575/1575 [==============================] - 55s 35ms/step - loss: 0.2894 - accuracy: 0.9190 - val_loss: 4.6364 - val_accuracy: 0.3967\n",
            "Epoch 7/10\n",
            "1575/1575 [==============================] - 55s 35ms/step - loss: 0.2255 - accuracy: 0.9382 - val_loss: 5.0545 - val_accuracy: 0.3871\n",
            "Epoch 8/10\n",
            "1575/1575 [==============================] - 56s 36ms/step - loss: 0.1861 - accuracy: 0.9493 - val_loss: 6.2363 - val_accuracy: 0.3603\n",
            "Epoch 9/10\n",
            "1575/1575 [==============================] - 55s 35ms/step - loss: 0.1754 - accuracy: 0.9544 - val_loss: 5.6130 - val_accuracy: 0.3887\n",
            "Epoch 10/10\n",
            "1575/1575 [==============================] - 55s 35ms/step - loss: 0.1571 - accuracy: 0.9586 - val_loss: 5.6516 - val_accuracy: 0.3729\n"
          ]
        },
        {
          "output_type": "execute_result",
          "data": {
            "text/plain": [
              "<keras.callbacks.History at 0x7f328f768290>"
            ]
          },
          "metadata": {},
          "execution_count": 35
        }
      ]
    },
    {
      "cell_type": "code",
      "source": [
        "from tensorflow.keras.regularizers import l1_l2\n",
        "\n",
        "model = tf.keras.Sequential([\n",
        "  tf.keras.layers.Rescaling(1./255),\n",
        "  tf.keras.layers.Conv2D(32, 3, activation='relu',kernel_regularizer = l1_l2(l1 = 0.00000001, l2 = 0.0001)),\n",
        "  tf.keras.layers.MaxPooling2D(),\n",
        "  tf.keras.layers.Conv2D(32, 3, activation='relu',kernel_regularizer = l1_l2(l1 = 0.00000001, l2 = 0.0001)),\n",
        "  tf.keras.layers.MaxPooling2D(),\n",
        "  tf.keras.layers.Conv2D(32, 3, activation='sigmoid',kernel_regularizer = l1_l2(l1 = 0.00001, l2 = 0.0001)),\n",
        "  tf.keras.layers.MaxPooling2D(),\n",
        "  tf.keras.layers.Flatten(),\n",
        "  tf.keras.layers.Dense(128, activation='sigmoid'),\n",
        "  tf.keras.layers.Dense(num_classes)\n",
        "])"
      ],
      "metadata": {
        "id": "9RN31vNsNLaF"
      },
      "execution_count": null,
      "outputs": []
    },
    {
      "cell_type": "code",
      "source": [
        "from tensorflow import keras\n",
        "model.compile(\n",
        "  optimizer='adam',\n",
        "  loss=tf.keras.losses.SparseCategoricalCrossentropy(from_logits=True),\n",
        "  metrics=['accuracy'])"
      ],
      "metadata": {
        "id": "vmcnpajaNNcy"
      },
      "execution_count": null,
      "outputs": []
    },
    {
      "cell_type": "code",
      "source": [
        "model.fit(\n",
        "  train_ds,\n",
        "  validation_data=val_ds,\n",
        "  epochs=10\n",
        ")"
      ],
      "metadata": {
        "colab": {
          "base_uri": "https://localhost:8080/"
        },
        "id": "DozTbl95NORn",
        "outputId": "9f088210-ad30-4af5-f64e-6aad720cd158"
      },
      "execution_count": null,
      "outputs": [
        {
          "output_type": "stream",
          "name": "stdout",
          "text": [
            "Epoch 1/10\n",
            "1575/1575 [==============================] - 58s 36ms/step - loss: 3.8347 - accuracy: 0.0219 - val_loss: 3.8350 - val_accuracy: 0.0224\n",
            "Epoch 2/10\n",
            "1575/1575 [==============================] - 56s 35ms/step - loss: 3.8272 - accuracy: 0.0219 - val_loss: 3.8322 - val_accuracy: 0.0224\n",
            "Epoch 3/10\n",
            "1575/1575 [==============================] - 56s 35ms/step - loss: 3.8271 - accuracy: 0.0227 - val_loss: 3.8321 - val_accuracy: 0.0224\n",
            "Epoch 4/10\n",
            "1575/1575 [==============================] - 57s 36ms/step - loss: 3.8271 - accuracy: 0.0223 - val_loss: 3.8322 - val_accuracy: 0.0224\n",
            "Epoch 5/10\n",
            "1575/1575 [==============================] - 56s 36ms/step - loss: 3.8272 - accuracy: 0.0237 - val_loss: 3.8313 - val_accuracy: 0.0243\n",
            "Epoch 6/10\n",
            "1575/1575 [==============================] - 56s 35ms/step - loss: 3.8275 - accuracy: 0.0217 - val_loss: 3.8330 - val_accuracy: 0.0224\n",
            "Epoch 7/10\n",
            "1575/1575 [==============================] - 55s 35ms/step - loss: 3.8267 - accuracy: 0.0219 - val_loss: 3.8368 - val_accuracy: 0.0224\n",
            "Epoch 8/10\n",
            "1575/1575 [==============================] - 56s 36ms/step - loss: 3.8269 - accuracy: 0.0234 - val_loss: 3.8337 - val_accuracy: 0.0224\n",
            "Epoch 9/10\n",
            "1575/1575 [==============================] - 56s 35ms/step - loss: 3.8264 - accuracy: 0.0236 - val_loss: 3.8362 - val_accuracy: 0.0224\n",
            "Epoch 10/10\n",
            "1575/1575 [==============================] - 55s 35ms/step - loss: 3.8266 - accuracy: 0.0237 - val_loss: 3.8349 - val_accuracy: 0.0243\n"
          ]
        },
        {
          "output_type": "execute_result",
          "data": {
            "text/plain": [
              "<keras.callbacks.History at 0x7f328c4cc2d0>"
            ]
          },
          "metadata": {},
          "execution_count": 40
        }
      ]
    },
    {
      "cell_type": "markdown",
      "source": [
        "## NOT A GREAT RESULT, ADDING SOFTMAX AT THE END\n",
        "---\n",
        "\n"
      ],
      "metadata": {
        "id": "3zpf5o53OXU9"
      }
    },
    {
      "cell_type": "code",
      "source": [
        "from tensorflow.keras.regularizers import l1_l2\n",
        "\n",
        "model = tf.keras.Sequential([\n",
        "  tf.keras.layers.Rescaling(1./255),\n",
        "  tf.keras.layers.Conv2D(32, 3, activation='relu'),\n",
        "  tf.keras.layers.MaxPooling2D(),\n",
        "  tf.keras.layers.Conv2D(32, 3, activation='relu'),\n",
        "  tf.keras.layers.MaxPooling2D(),\n",
        "  tf.keras.layers.Conv2D(32, 3, activation='relu'),\n",
        "  tf.keras.layers.MaxPooling2D(),\n",
        "  tf.keras.layers.Flatten(),\n",
        "  tf.keras.layers.Dense(128, activation='softmax'),\n",
        "  tf.keras.layers.Dense(num_classes)\n",
        "])"
      ],
      "metadata": {
        "id": "fb7-uOlVOZ_m"
      },
      "execution_count": null,
      "outputs": []
    },
    {
      "cell_type": "code",
      "source": [
        "from tensorflow import keras\n",
        "model.compile(\n",
        "  optimizer='adam',\n",
        "  loss=tf.keras.losses.SparseCategoricalCrossentropy(from_logits=True),\n",
        "  metrics=['accuracy'])"
      ],
      "metadata": {
        "id": "OZ1KCEciOdwR"
      },
      "execution_count": null,
      "outputs": []
    },
    {
      "cell_type": "code",
      "source": [
        "model.fit(\n",
        "  train_ds,\n",
        "  validation_data=val_ds,\n",
        "  epochs=10\n",
        ")"
      ],
      "metadata": {
        "colab": {
          "base_uri": "https://localhost:8080/"
        },
        "id": "vBJtlqPOOe55",
        "outputId": "472c4a73-16bb-48d3-84b0-84f8867725a0"
      },
      "execution_count": null,
      "outputs": [
        {
          "output_type": "stream",
          "name": "stdout",
          "text": [
            "Epoch 1/10\n",
            "1575/1575 [==============================] - 56s 35ms/step - loss: 3.7117 - accuracy: 0.0658 - val_loss: 3.8149 - val_accuracy: 0.0341\n",
            "Epoch 2/10\n",
            "1575/1575 [==============================] - 55s 35ms/step - loss: 3.6002 - accuracy: 0.0781 - val_loss: 3.5461 - val_accuracy: 0.0825\n",
            "Epoch 3/10\n",
            "1575/1575 [==============================] - 55s 35ms/step - loss: 3.4701 - accuracy: 0.0896 - val_loss: 3.4374 - val_accuracy: 0.0876\n",
            "Epoch 4/10\n",
            "1575/1575 [==============================] - 55s 35ms/step - loss: 3.6065 - accuracy: 0.0684 - val_loss: 3.4251 - val_accuracy: 0.0825\n",
            "Epoch 5/10\n",
            "1575/1575 [==============================] - 56s 35ms/step - loss: 3.4605 - accuracy: 0.0855 - val_loss: 3.4166 - val_accuracy: 0.0894\n",
            "Epoch 6/10\n",
            "1575/1575 [==============================] - 56s 36ms/step - loss: 3.3877 - accuracy: 0.0959 - val_loss: 3.4261 - val_accuracy: 0.0857\n",
            "Epoch 7/10\n",
            "1575/1575 [==============================] - 55s 35ms/step - loss: 3.3800 - accuracy: 0.0977 - val_loss: 3.3435 - val_accuracy: 0.0941\n",
            "Epoch 8/10\n",
            "1575/1575 [==============================] - 55s 35ms/step - loss: 3.7561 - accuracy: 0.0549 - val_loss: 3.4759 - val_accuracy: 0.0897\n",
            "Epoch 9/10\n",
            "1575/1575 [==============================] - 56s 36ms/step - loss: 3.5592 - accuracy: 0.0754 - val_loss: 3.5321 - val_accuracy: 0.0837\n",
            "Epoch 10/10\n",
            "1575/1575 [==============================] - 55s 35ms/step - loss: 3.3833 - accuracy: 0.1016 - val_loss: 3.3187 - val_accuracy: 0.1038\n"
          ]
        },
        {
          "output_type": "execute_result",
          "data": {
            "text/plain": [
              "<keras.callbacks.History at 0x7f328c2c3e50>"
            ]
          },
          "metadata": {},
          "execution_count": 43
        }
      ]
    },
    {
      "cell_type": "markdown",
      "source": [
        "## HYPERPARAMETER TRAINING COMPLETE. MOVING ONTO ENSEMBLE"
      ],
      "metadata": {
        "id": "DZJBWS3JP2PY"
      }
    },
    {
      "cell_type": "code",
      "source": [
        "import seaborn as sns \n",
        "sns.set(font_scale=1.5)\n",
        "import pandas as pd\n",
        "import os \n",
        "import keras\n",
        "import numpy as np\n",
        "from sklearn.model_selection import train_test_split\n",
        "from keras.models import model_from_json\n",
        "from keras.models import Sequential\n",
        "from keras.optimizers import Adam\n",
        "from keras.utils import to_categorical\n",
        "from keras.preprocessing.image import ImageDataGenerator\n",
        "from keras.layers import Dense,Conv2D,Flatten,MaxPool2D,Dropout,BatchNormalization\n",
        "from keras.callbacks import LearningRateScheduler\n",
        "from scipy.ndimage.filters import gaussian_filter\n",
        "from scipy.ndimage.interpolation import map_coordinates\n",
        "import matplotlib.pyplot as plt\n",
        "import os\n",
        "\n",
        "\n",
        "\n",
        "\n",
        "nets = 3\n",
        "model_ensemble = [0] * nets\n",
        "for j in range(nets):\n",
        "  model_ensemble[j] = Sequential()\n",
        "  model_ensemble[j].add(Conv2D(32, kernel_size = 3, activation = 'relu', input_shape = (256,256,3)))\n",
        "  model_ensemble[j].add(BatchNormalization())\n",
        "  model_ensemble[j].add(Conv2D(32, kernel_size = 3, activation = 'relu'))\n",
        "  model_ensemble[j].add(BatchNormalization())\n",
        "  model_ensemble[j].add(Conv2D(32, kernel_size = 3, activation = 'relu'))\n",
        "  model_ensemble[j].add(BatchNormalization())\n",
        "  model_ensemble[j].add(Flatten())\n",
        "  model_ensemble[j].add(Dense(128,  activation = 'relu'))\n",
        "  model_ensemble[j].add(Dense(num_classes))\n",
        "  model_ensemble[j].compile(optimizer='adam', loss=tf.keras.losses.SparseCategoricalCrossentropy(from_logits=True), metrics=['accuracy'])\n",
        "\n",
        "model_ensemble[0].summary()\n",
        "\n",
        "\n"
      ],
      "metadata": {
        "id": "StomN7rEP9lm",
        "colab": {
          "base_uri": "https://localhost:8080/"
        },
        "outputId": "4f82dc4d-756c-486b-ae61-15d10fb62e08"
      },
      "execution_count": null,
      "outputs": [
        {
          "output_type": "stream",
          "name": "stdout",
          "text": [
            "Model: \"sequential_1\"\n",
            "_________________________________________________________________\n",
            " Layer (type)                Output Shape              Param #   \n",
            "=================================================================\n",
            " conv2d_3 (Conv2D)           (None, 254, 254, 32)      896       \n",
            "                                                                 \n",
            " batch_normalization (BatchN  (None, 254, 254, 32)     128       \n",
            " ormalization)                                                   \n",
            "                                                                 \n",
            " conv2d_4 (Conv2D)           (None, 252, 252, 32)      9248      \n",
            "                                                                 \n",
            " batch_normalization_1 (Batc  (None, 252, 252, 32)     128       \n",
            " hNormalization)                                                 \n",
            "                                                                 \n",
            " conv2d_5 (Conv2D)           (None, 250, 250, 32)      9248      \n",
            "                                                                 \n",
            " batch_normalization_2 (Batc  (None, 250, 250, 32)     128       \n",
            " hNormalization)                                                 \n",
            "                                                                 \n",
            " flatten_1 (Flatten)         (None, 2000000)           0         \n",
            "                                                                 \n",
            " dense_2 (Dense)             (None, 128)               256000128 \n",
            "                                                                 \n",
            " dense_3 (Dense)             (None, 45)                5805      \n",
            "                                                                 \n",
            "=================================================================\n",
            "Total params: 256,025,709\n",
            "Trainable params: 256,025,517\n",
            "Non-trainable params: 192\n",
            "_________________________________________________________________\n"
          ]
        }
      ]
    },
    {
      "cell_type": "code",
      "source": [
        "history = [0] * nets\n",
        "history[0] = model_ensemble[0].fit(train_ds, validation_data=val_ds, epochs=10)\n",
        "model_ensemble[0].save_weights(\"modelw\"+str(j)+\".h5\")\n",
        "\n",
        "history[1] = model_ensemble[1].fit(train_ds, validation_data=val_ds, epochs=10)\n",
        "model_ensemble[1].save_weights(\"modelw\"+str(j)+\".h5\")\n",
        "\n",
        "history[2] = model_ensemble[2].fit(train_ds, validation_data=val_ds, epochs=10)\n",
        "model_ensemble[2].save_weights(\"modelw\"+str(j)+\".h5\")"
      ],
      "metadata": {
        "colab": {
          "base_uri": "https://localhost:8080/"
        },
        "id": "eNhRDDsf2aFv",
        "outputId": "f4127724-1668-47de-f7cf-01cb263d68e3"
      },
      "execution_count": null,
      "outputs": [
        {
          "output_type": "stream",
          "name": "stdout",
          "text": [
            "Epoch 1/10\n",
            "788/788 [==============================] - 210s 254ms/step - loss: 18.4652 - accuracy: 0.0413 - val_loss: 4.5603 - val_accuracy: 0.0332\n",
            "Epoch 2/10\n",
            "788/788 [==============================] - 196s 248ms/step - loss: 3.9233 - accuracy: 0.0631 - val_loss: 4.1342 - val_accuracy: 0.0249\n",
            "Epoch 3/10\n",
            "788/788 [==============================] - 195s 247ms/step - loss: 4.0131 - accuracy: 0.0518 - val_loss: 4.5135 - val_accuracy: 0.0263\n",
            "Epoch 4/10\n",
            "788/788 [==============================] - 195s 247ms/step - loss: 3.9416 - accuracy: 0.0423 - val_loss: 3.9094 - val_accuracy: 0.0303\n",
            "Epoch 5/10\n",
            "788/788 [==============================] - 194s 245ms/step - loss: 3.9581 - accuracy: 0.0379 - val_loss: 3.8148 - val_accuracy: 0.0197\n",
            "Epoch 6/10\n",
            "788/788 [==============================] - 193s 245ms/step - loss: 3.9098 - accuracy: 0.0271 - val_loss: 3.8447 - val_accuracy: 0.0197\n",
            "Epoch 7/10\n",
            "788/788 [==============================] - 193s 245ms/step - loss: 3.8715 - accuracy: 0.0276 - val_loss: 4.7058 - val_accuracy: 0.0202\n",
            "Epoch 8/10\n",
            "788/788 [==============================] - 193s 244ms/step - loss: 3.8498 - accuracy: 0.0242 - val_loss: 4.7146 - val_accuracy: 0.0197\n",
            "Epoch 9/10\n",
            "788/788 [==============================] - 192s 244ms/step - loss: 3.8871 - accuracy: 0.0238 - val_loss: 4.4780 - val_accuracy: 0.0197\n",
            "Epoch 10/10\n",
            "788/788 [==============================] - 192s 244ms/step - loss: 3.8338 - accuracy: 0.0223 - val_loss: 3.8108 - val_accuracy: 0.0197\n",
            "Epoch 1/10\n",
            "788/788 [==============================] - 197s 249ms/step - loss: 21.1847 - accuracy: 0.0313 - val_loss: 4.3045 - val_accuracy: 0.0216\n",
            "Epoch 2/10\n",
            "788/788 [==============================] - 196s 248ms/step - loss: 4.0908 - accuracy: 0.0517 - val_loss: 8.6415 - val_accuracy: 0.0135\n",
            "Epoch 3/10\n",
            "788/788 [==============================] - 195s 247ms/step - loss: 4.0383 - accuracy: 0.0348 - val_loss: 4.1718 - val_accuracy: 0.0198\n",
            "Epoch 4/10\n",
            "788/788 [==============================] - 194s 247ms/step - loss: 3.8897 - accuracy: 0.0348 - val_loss: 3.8183 - val_accuracy: 0.0198\n",
            "Epoch 5/10\n",
            "788/788 [==============================] - 194s 246ms/step - loss: 4.1052 - accuracy: 0.0311 - val_loss: 241.1294 - val_accuracy: 0.0135\n",
            "Epoch 6/10\n",
            "788/788 [==============================] - 194s 246ms/step - loss: 4.0530 - accuracy: 0.0263 - val_loss: 4.0545 - val_accuracy: 0.0200\n",
            "Epoch 7/10\n",
            "788/788 [==============================] - 193s 245ms/step - loss: 3.8617 - accuracy: 0.0245 - val_loss: 4.0297 - val_accuracy: 0.0197\n",
            "Epoch 8/10\n",
            "788/788 [==============================] - 193s 245ms/step - loss: 3.8367 - accuracy: 0.0234 - val_loss: 4.1347 - val_accuracy: 0.0197\n",
            "Epoch 9/10\n",
            "788/788 [==============================] - 193s 245ms/step - loss: 3.8082 - accuracy: 0.0224 - val_loss: 3.9327 - val_accuracy: 0.0197\n",
            "Epoch 10/10\n",
            "788/788 [==============================] - 193s 245ms/step - loss: 3.9210 - accuracy: 0.0233 - val_loss: 3.8530 - val_accuracy: 0.0197\n",
            "Epoch 1/10\n",
            "788/788 [==============================] - 197s 249ms/step - loss: 18.1046 - accuracy: 0.0335 - val_loss: 4.0710 - val_accuracy: 0.0235\n",
            "Epoch 2/10\n",
            "788/788 [==============================] - 197s 250ms/step - loss: 3.9263 - accuracy: 0.0558 - val_loss: 6.6424 - val_accuracy: 0.0238\n",
            "Epoch 3/10\n",
            "788/788 [==============================] - 196s 249ms/step - loss: 4.1987 - accuracy: 0.0470 - val_loss: 3.9253 - val_accuracy: 0.0200\n",
            "Epoch 4/10\n",
            "788/788 [==============================] - 197s 250ms/step - loss: 4.0530 - accuracy: 0.0299 - val_loss: 4.9859 - val_accuracy: 0.0208\n",
            "Epoch 5/10\n",
            "788/788 [==============================] - 203s 257ms/step - loss: 4.0307 - accuracy: 0.0257 - val_loss: 5.1264 - val_accuracy: 0.0203\n",
            "Epoch 6/10\n",
            "788/788 [==============================] - 201s 254ms/step - loss: 3.8996 - accuracy: 0.0244 - val_loss: 5.2255 - val_accuracy: 0.0197\n",
            "Epoch 7/10\n",
            "788/788 [==============================] - 202s 256ms/step - loss: 3.8200 - accuracy: 0.0236 - val_loss: 5.0118 - val_accuracy: 0.0198\n",
            "Epoch 8/10\n",
            "788/788 [==============================] - 195s 247ms/step - loss: 3.9906 - accuracy: 0.0229 - val_loss: 5.0288 - val_accuracy: 0.0197\n",
            "Epoch 9/10\n",
            "788/788 [==============================] - 194s 246ms/step - loss: 3.8723 - accuracy: 0.0223 - val_loss: 8.4498 - val_accuracy: 0.0197\n",
            "Epoch 10/10\n",
            "788/788 [==============================] - 194s 247ms/step - loss: 3.8150 - accuracy: 0.0219 - val_loss: 11.1333 - val_accuracy: 0.0197\n"
          ]
        }
      ]
    },
    {
      "cell_type": "markdown",
      "source": [
        "## TRANSFER LEARNING\n"
      ],
      "metadata": {
        "id": "U1y-iKguCCgF"
      }
    },
    {
      "cell_type": "code",
      "source": [
        "from tensorflow.keras.applications import EfficientNetB0"
      ],
      "metadata": {
        "id": "CStuq0emLpHo"
      },
      "execution_count": null,
      "outputs": []
    },
    {
      "cell_type": "code",
      "source": [
        "effnet = EfficientNetB0(weights='imagenet',include_top=False,input_shape=(256,256,3))"
      ],
      "metadata": {
        "id": "2tESk9QpLnUK"
      },
      "execution_count": null,
      "outputs": []
    },
    {
      "cell_type": "code",
      "source": [
        "model = effnet.output\n",
        "model = tf.keras.layers.GlobalAveragePooling2D()(model)\n",
        "model = tf.keras.layers.Dropout(rate=0.5)(model)\n",
        "model = tf.keras.layers.Dense(4,activation='relu')(model)\n",
        "model = tf.keras.models.Model(inputs=effnet.input, outputs = model)"
      ],
      "metadata": {
        "id": "VV5EWoDzNgR0"
      },
      "execution_count": null,
      "outputs": []
    },
    {
      "cell_type": "code",
      "source": [
        "model.compile(loss='sparse_categorical_crossentropy',optimizer = 'Adam', metrics= ['accuracy'])"
      ],
      "metadata": {
        "id": "--6Nkbg0NhFR"
      },
      "execution_count": null,
      "outputs": []
    },
    {
      "cell_type": "code",
      "source": [
        "tensorboard = TensorBoard(log_dir = 'logs')\n",
        "checkpoint = ModelCheckpoint(\"effnet.h5\",monitor=\"val_accuracy\",save_best_only=True,mode=\"auto\",verbose=1)\n",
        "reduce_lr = ReduceLROnPlateau(monitor = 'val_accuracy', factor = 0.3, patience = 2, min_delta = 0.001,\n",
        "                              mode='auto',verbose=1)"
      ],
      "metadata": {
        "id": "5XMYoTCENjHf"
      },
      "execution_count": null,
      "outputs": []
    },
    {
      "cell_type": "code",
      "source": [
        "history = model.fit(train_ds, validation_data=val_ds, epochs=10, batch_size=64,\n",
        "                   callbacks=[tensorboard,checkpoint,reduce_lr])"
      ],
      "metadata": {
        "colab": {
          "base_uri": "https://localhost:8080/"
        },
        "id": "7cUGaIdqNmJm",
        "outputId": "b4b211aa-4edd-4fdf-f883-1bff19299f64"
      },
      "execution_count": null,
      "outputs": [
        {
          "output_type": "stream",
          "name": "stdout",
          "text": [
            "Epoch 1/10\n",
            "788/788 [==============================] - ETA: 0s - loss: nan - accuracy: 0.0229\n",
            "Epoch 1: val_accuracy improved from -inf to 0.01968, saving model to effnet.h5\n",
            "788/788 [==============================] - 350s 404ms/step - loss: nan - accuracy: 0.0229 - val_loss: nan - val_accuracy: 0.0197 - lr: 0.0010\n",
            "Epoch 2/10\n",
            "788/788 [==============================] - ETA: 0s - loss: nan - accuracy: 0.0229\n",
            "Epoch 2: val_accuracy did not improve from 0.01968\n",
            "788/788 [==============================] - 314s 399ms/step - loss: nan - accuracy: 0.0229 - val_loss: nan - val_accuracy: 0.0197 - lr: 0.0010\n",
            "Epoch 3/10\n",
            "788/788 [==============================] - ETA: 0s - loss: nan - accuracy: 0.0229\n",
            "Epoch 3: val_accuracy did not improve from 0.01968\n",
            "\n",
            "Epoch 3: ReduceLROnPlateau reducing learning rate to 0.0003000000142492354.\n",
            "788/788 [==============================] - 317s 402ms/step - loss: nan - accuracy: 0.0229 - val_loss: nan - val_accuracy: 0.0197 - lr: 0.0010\n",
            "Epoch 4/10\n",
            "788/788 [==============================] - ETA: 0s - loss: nan - accuracy: 0.0229\n",
            "Epoch 4: val_accuracy did not improve from 0.01968\n",
            "788/788 [==============================] - 315s 399ms/step - loss: nan - accuracy: 0.0229 - val_loss: nan - val_accuracy: 0.0197 - lr: 3.0000e-04\n",
            "Epoch 5/10\n",
            "788/788 [==============================] - ETA: 0s - loss: nan - accuracy: 0.0229\n",
            "Epoch 5: val_accuracy did not improve from 0.01968\n",
            "\n",
            "Epoch 5: ReduceLROnPlateau reducing learning rate to 9.000000427477062e-05.\n",
            "788/788 [==============================] - 315s 399ms/step - loss: nan - accuracy: 0.0229 - val_loss: nan - val_accuracy: 0.0197 - lr: 3.0000e-04\n",
            "Epoch 6/10\n",
            "788/788 [==============================] - ETA: 0s - loss: nan - accuracy: 0.0229\n",
            "Epoch 6: val_accuracy did not improve from 0.01968\n",
            "788/788 [==============================] - 316s 401ms/step - loss: nan - accuracy: 0.0229 - val_loss: nan - val_accuracy: 0.0197 - lr: 9.0000e-05\n",
            "Epoch 7/10\n",
            "788/788 [==============================] - ETA: 0s - loss: nan - accuracy: 0.0229\n",
            "Epoch 7: val_accuracy did not improve from 0.01968\n",
            "\n",
            "Epoch 7: ReduceLROnPlateau reducing learning rate to 2.700000040931627e-05.\n",
            "788/788 [==============================] - 314s 399ms/step - loss: nan - accuracy: 0.0229 - val_loss: nan - val_accuracy: 0.0197 - lr: 9.0000e-05\n",
            "Epoch 8/10\n",
            "788/788 [==============================] - ETA: 0s - loss: nan - accuracy: 0.0229\n",
            "Epoch 8: val_accuracy did not improve from 0.01968\n",
            "788/788 [==============================] - 314s 398ms/step - loss: nan - accuracy: 0.0229 - val_loss: nan - val_accuracy: 0.0197 - lr: 2.7000e-05\n",
            "Epoch 9/10\n",
            "788/788 [==============================] - ETA: 0s - loss: nan - accuracy: 0.0229\n",
            "Epoch 9: val_accuracy did not improve from 0.01968\n",
            "\n",
            "Epoch 9: ReduceLROnPlateau reducing learning rate to 8.100000013655517e-06.\n",
            "788/788 [==============================] - 315s 399ms/step - loss: nan - accuracy: 0.0229 - val_loss: nan - val_accuracy: 0.0197 - lr: 2.7000e-05\n",
            "Epoch 10/10\n",
            "788/788 [==============================] - ETA: 0s - loss: nan - accuracy: 0.0229\n",
            "Epoch 10: val_accuracy did not improve from 0.01968\n",
            "788/788 [==============================] - 315s 400ms/step - loss: nan - accuracy: 0.0229 - val_loss: nan - val_accuracy: 0.0197 - lr: 8.1000e-06\n"
          ]
        }
      ]
    },
    {
      "cell_type": "code",
      "source": [
        "from tensorflow.keras.applications import vgg16\n",
        "from tensorflow.keras.models import Sequential"
      ],
      "metadata": {
        "id": "n16Ha4z6ltO5"
      },
      "execution_count": null,
      "outputs": []
    },
    {
      "cell_type": "code",
      "source": [
        "vgg_model = vgg16.VGG16()"
      ],
      "metadata": {
        "id": "Y3T7wa3qiiZW"
      },
      "execution_count": null,
      "outputs": []
    },
    {
      "cell_type": "code",
      "source": [
        "model = Sequential()\n",
        "for layer in vgg_model.layers[0:-1]:\n",
        "  model.add(layer)\n",
        "model.summary()"
      ],
      "metadata": {
        "colab": {
          "base_uri": "https://localhost:8080/"
        },
        "id": "GLXXR9eiisnQ",
        "outputId": "7b4384f1-6d4e-4433-c448-60b855f6b524"
      },
      "execution_count": null,
      "outputs": [
        {
          "output_type": "stream",
          "name": "stdout",
          "text": [
            "Model: \"sequential_5\"\n",
            "_________________________________________________________________\n",
            " Layer (type)                Output Shape              Param #   \n",
            "=================================================================\n",
            " block1_conv1 (Conv2D)       (None, 224, 224, 64)      1792      \n",
            "                                                                 \n",
            " block1_conv2 (Conv2D)       (None, 224, 224, 64)      36928     \n",
            "                                                                 \n",
            " block1_pool (MaxPooling2D)  (None, 112, 112, 64)      0         \n",
            "                                                                 \n",
            " block2_conv1 (Conv2D)       (None, 112, 112, 128)     73856     \n",
            "                                                                 \n",
            " block2_conv2 (Conv2D)       (None, 112, 112, 128)     147584    \n",
            "                                                                 \n",
            " block2_pool (MaxPooling2D)  (None, 56, 56, 128)       0         \n",
            "                                                                 \n",
            " block3_conv1 (Conv2D)       (None, 56, 56, 256)       295168    \n",
            "                                                                 \n",
            " block3_conv2 (Conv2D)       (None, 56, 56, 256)       590080    \n",
            "                                                                 \n",
            " block3_conv3 (Conv2D)       (None, 56, 56, 256)       590080    \n",
            "                                                                 \n",
            " block3_pool (MaxPooling2D)  (None, 28, 28, 256)       0         \n",
            "                                                                 \n",
            " block4_conv1 (Conv2D)       (None, 28, 28, 512)       1180160   \n",
            "                                                                 \n",
            " block4_conv2 (Conv2D)       (None, 28, 28, 512)       2359808   \n",
            "                                                                 \n",
            " block4_conv3 (Conv2D)       (None, 28, 28, 512)       2359808   \n",
            "                                                                 \n",
            " block4_pool (MaxPooling2D)  (None, 14, 14, 512)       0         \n",
            "                                                                 \n",
            " block5_conv1 (Conv2D)       (None, 14, 14, 512)       2359808   \n",
            "                                                                 \n",
            " block5_conv2 (Conv2D)       (None, 14, 14, 512)       2359808   \n",
            "                                                                 \n",
            " block5_conv3 (Conv2D)       (None, 14, 14, 512)       2359808   \n",
            "                                                                 \n",
            " block5_pool (MaxPooling2D)  (None, 7, 7, 512)         0         \n",
            "                                                                 \n",
            " flatten (Flatten)           (None, 25088)             0         \n",
            "                                                                 \n",
            " fc1 (Dense)                 (None, 4096)              102764544 \n",
            "                                                                 \n",
            " fc2 (Dense)                 (None, 4096)              16781312  \n",
            "                                                                 \n",
            "=================================================================\n",
            "Total params: 134,260,544\n",
            "Trainable params: 134,260,544\n",
            "Non-trainable params: 0\n",
            "_________________________________________________________________\n"
          ]
        }
      ]
    },
    {
      "cell_type": "code",
      "source": [
        "for layer in model.layers:\n",
        "  layer.trainable = False\n",
        "model.summary()"
      ],
      "metadata": {
        "colab": {
          "base_uri": "https://localhost:8080/"
        },
        "id": "xML80BlvjDP0",
        "outputId": "5ae05762-d9b5-46fb-ddfe-eee944128718"
      },
      "execution_count": null,
      "outputs": [
        {
          "output_type": "stream",
          "name": "stdout",
          "text": [
            "Model: \"sequential_5\"\n",
            "_________________________________________________________________\n",
            " Layer (type)                Output Shape              Param #   \n",
            "=================================================================\n",
            " block1_conv1 (Conv2D)       (None, 224, 224, 64)      1792      \n",
            "                                                                 \n",
            " block1_conv2 (Conv2D)       (None, 224, 224, 64)      36928     \n",
            "                                                                 \n",
            " block1_pool (MaxPooling2D)  (None, 112, 112, 64)      0         \n",
            "                                                                 \n",
            " block2_conv1 (Conv2D)       (None, 112, 112, 128)     73856     \n",
            "                                                                 \n",
            " block2_conv2 (Conv2D)       (None, 112, 112, 128)     147584    \n",
            "                                                                 \n",
            " block2_pool (MaxPooling2D)  (None, 56, 56, 128)       0         \n",
            "                                                                 \n",
            " block3_conv1 (Conv2D)       (None, 56, 56, 256)       295168    \n",
            "                                                                 \n",
            " block3_conv2 (Conv2D)       (None, 56, 56, 256)       590080    \n",
            "                                                                 \n",
            " block3_conv3 (Conv2D)       (None, 56, 56, 256)       590080    \n",
            "                                                                 \n",
            " block3_pool (MaxPooling2D)  (None, 28, 28, 256)       0         \n",
            "                                                                 \n",
            " block4_conv1 (Conv2D)       (None, 28, 28, 512)       1180160   \n",
            "                                                                 \n",
            " block4_conv2 (Conv2D)       (None, 28, 28, 512)       2359808   \n",
            "                                                                 \n",
            " block4_conv3 (Conv2D)       (None, 28, 28, 512)       2359808   \n",
            "                                                                 \n",
            " block4_pool (MaxPooling2D)  (None, 14, 14, 512)       0         \n",
            "                                                                 \n",
            " block5_conv1 (Conv2D)       (None, 14, 14, 512)       2359808   \n",
            "                                                                 \n",
            " block5_conv2 (Conv2D)       (None, 14, 14, 512)       2359808   \n",
            "                                                                 \n",
            " block5_conv3 (Conv2D)       (None, 14, 14, 512)       2359808   \n",
            "                                                                 \n",
            " block5_pool (MaxPooling2D)  (None, 7, 7, 512)         0         \n",
            "                                                                 \n",
            " flatten (Flatten)           (None, 25088)             0         \n",
            "                                                                 \n",
            " fc1 (Dense)                 (None, 4096)              102764544 \n",
            "                                                                 \n",
            " fc2 (Dense)                 (None, 4096)              16781312  \n",
            "                                                                 \n",
            "=================================================================\n",
            "Total params: 134,260,544\n",
            "Trainable params: 0\n",
            "Non-trainable params: 134,260,544\n",
            "_________________________________________________________________\n"
          ]
        }
      ]
    },
    {
      "cell_type": "code",
      "source": [
        "from tensorflow.keras.layers import Dense"
      ],
      "metadata": {
        "id": "gkuM1o6ZmTBW"
      },
      "execution_count": null,
      "outputs": []
    },
    {
      "cell_type": "code",
      "source": [
        "model.add(Dense(45))"
      ],
      "metadata": {
        "id": "nNLHN66-mPe9"
      },
      "execution_count": null,
      "outputs": []
    },
    {
      "cell_type": "code",
      "source": [
        "model.compile(optimizer = 'adam', loss = tf.keras.losses.SparseCategoricalCrossentropy(from_logits = True), metrics = ['accuracy'])\n"
      ],
      "metadata": {
        "id": "CJyo26ComemK"
      },
      "execution_count": null,
      "outputs": []
    },
    {
      "cell_type": "code",
      "source": [
        "H = model.fit(train_ds, validation_data = val_ds, epochs = 10)"
      ],
      "metadata": {
        "colab": {
          "base_uri": "https://localhost:8080/"
        },
        "id": "ZkY-sJWKmx4x",
        "outputId": "12940c72-fd18-4cee-9527-1abb99e8d94b"
      },
      "execution_count": null,
      "outputs": [
        {
          "output_type": "stream",
          "name": "stdout",
          "text": [
            "Epoch 1/10\n",
            "788/788 [==============================] - 173s 206ms/step - loss: 1.1669 - accuracy: 0.6949 - val_loss: 0.9721 - val_accuracy: 0.7462\n",
            "Epoch 2/10\n",
            "788/788 [==============================] - 160s 203ms/step - loss: 0.6256 - accuracy: 0.8182 - val_loss: 1.0673 - val_accuracy: 0.7497\n",
            "Epoch 3/10\n",
            "788/788 [==============================] - 160s 202ms/step - loss: 0.4304 - accuracy: 0.8680 - val_loss: 1.0267 - val_accuracy: 0.7546\n",
            "Epoch 4/10\n",
            "788/788 [==============================] - 160s 202ms/step - loss: 0.3043 - accuracy: 0.9025 - val_loss: 0.9762 - val_accuracy: 0.7751\n",
            "Epoch 5/10\n",
            "788/788 [==============================] - 159s 202ms/step - loss: 0.2390 - accuracy: 0.9202 - val_loss: 1.0300 - val_accuracy: 0.7724\n",
            "Epoch 6/10\n",
            "788/788 [==============================] - 160s 203ms/step - loss: 0.1927 - accuracy: 0.9350 - val_loss: 1.1200 - val_accuracy: 0.7727\n",
            "Epoch 7/10\n",
            "788/788 [==============================] - 160s 203ms/step - loss: 0.1834 - accuracy: 0.9381 - val_loss: 1.1827 - val_accuracy: 0.7757\n",
            "Epoch 8/10\n",
            "788/788 [==============================] - 159s 202ms/step - loss: 0.1574 - accuracy: 0.9474 - val_loss: 1.3443 - val_accuracy: 0.7649\n",
            "Epoch 9/10\n",
            "788/788 [==============================] - 160s 203ms/step - loss: 0.1429 - accuracy: 0.9508 - val_loss: 1.2736 - val_accuracy: 0.7795\n",
            "Epoch 10/10\n",
            "788/788 [==============================] - 161s 203ms/step - loss: 0.1192 - accuracy: 0.9592 - val_loss: 1.3490 - val_accuracy: 0.7800\n"
          ]
        }
      ]
    },
    {
      "cell_type": "markdown",
      "source": [
        "## TRAIN - VAL - TEST SPLIT"
      ],
      "metadata": {
        "id": "hHDh9u3T3WpP"
      }
    },
    {
      "cell_type": "code",
      "source": [
        "!pip install split-folders"
      ],
      "metadata": {
        "colab": {
          "base_uri": "https://localhost:8080/"
        },
        "id": "c-W0q4pk7igt",
        "outputId": "cbe38904-6453-4c18-c877-fd38a4f2bde1"
      },
      "execution_count": null,
      "outputs": [
        {
          "output_type": "stream",
          "name": "stdout",
          "text": [
            "Looking in indexes: https://pypi.org/simple, https://us-python.pkg.dev/colab-wheels/public/simple/\n",
            "Collecting split-folders\n",
            "  Downloading split_folders-0.5.1-py3-none-any.whl (8.4 kB)\n",
            "Installing collected packages: split-folders\n",
            "Successfully installed split-folders-0.5.1\n"
          ]
        }
      ]
    },
    {
      "cell_type": "code",
      "source": [
        "import splitfolders\n",
        "\n",
        "\n",
        "splitfolders.ratio(\n",
        "    data_dir,  # The location of dataset\n",
        "    output=\"split\",  # The output location\n",
        "    seed= 123, \n",
        "    ratio=(0.8, 0.1, 0.1),  # The ratio of the split dataset\n",
        "    group_prefix=None,\n",
        "    move=False,\n",
        ")"
      ],
      "metadata": {
        "colab": {
          "base_uri": "https://localhost:8080/"
        },
        "id": "lui5VOaP5Uv3",
        "outputId": "73c97dbd-f096-4da3-f590-c4d008fdb91e"
      },
      "execution_count": null,
      "outputs": [
        {
          "output_type": "stream",
          "name": "stderr",
          "text": [
            "Copying files: 31500 files [00:07, 4197.93 files/s]\n"
          ]
        }
      ]
    },
    {
      "cell_type": "code",
      "source": [
        "trainX = tf.keras.utils.image_dataset_from_directory('/content/split/train/', image_size=(256,256), labels='inferred')"
      ],
      "metadata": {
        "colab": {
          "base_uri": "https://localhost:8080/"
        },
        "id": "jMZTp2jV-ssm",
        "outputId": "78a39ccb-5b56-4897-d692-2c134eeaff64"
      },
      "execution_count": null,
      "outputs": [
        {
          "output_type": "stream",
          "name": "stdout",
          "text": [
            "Found 25200 files belonging to 45 classes.\n"
          ]
        }
      ]
    },
    {
      "cell_type": "code",
      "source": [
        "testX = tf.keras.utils.image_dataset_from_directory('/content/split/test/', image_size=(256,256), labels='inferred')"
      ],
      "metadata": {
        "colab": {
          "base_uri": "https://localhost:8080/"
        },
        "id": "f6k-HMB9_rJ9",
        "outputId": "ea9341c4-3f0f-4c38-e659-555f7b9487be"
      },
      "execution_count": null,
      "outputs": [
        {
          "output_type": "stream",
          "name": "stdout",
          "text": [
            "Found 3150 files belonging to 45 classes.\n"
          ]
        }
      ]
    },
    {
      "cell_type": "code",
      "source": [
        "valX = tf.keras.utils.image_dataset_from_directory('/content/split/val/', image_size=(256,256), labels='inferred')"
      ],
      "metadata": {
        "colab": {
          "base_uri": "https://localhost:8080/"
        },
        "id": "zqBVB-xt_wx-",
        "outputId": "93af7a97-03da-48c6-c92c-a8a1c1cf197b"
      },
      "execution_count": null,
      "outputs": [
        {
          "output_type": "stream",
          "name": "stdout",
          "text": [
            "Found 3150 files belonging to 45 classes.\n"
          ]
        }
      ]
    },
    {
      "cell_type": "code",
      "source": [
        "num_classes = 45\n",
        "\n",
        "model = tf.keras.Sequential([\n",
        "  tf.keras.layers.Rescaling(1./255),\n",
        "  tf.keras.layers.Conv2D(32, 3, activation='relu'),\n",
        "  tf.keras.layers.MaxPooling2D(),\n",
        "  tf.keras.layers.Conv2D(32, 3, activation='relu'),\n",
        "  tf.keras.layers.MaxPooling2D(),\n",
        "  tf.keras.layers.Conv2D(32, 3, activation='relu'),\n",
        "  tf.keras.layers.MaxPooling2D(),\n",
        "  tf.keras.layers.Flatten(),\n",
        "  tf.keras.layers.Dense(128, activation='relu'),\n",
        "  tf.keras.layers.Dense(num_classes)\n",
        "])"
      ],
      "metadata": {
        "id": "51EPVlGf3U22"
      },
      "execution_count": null,
      "outputs": []
    },
    {
      "cell_type": "code",
      "source": [
        "model.compile(\n",
        "  optimizer='adam',\n",
        "  loss=tf.keras.losses.SparseCategoricalCrossentropy(from_logits=True),\n",
        "  metrics=['accuracy'])"
      ],
      "metadata": {
        "id": "qDzAFpjB34J-"
      },
      "execution_count": null,
      "outputs": []
    },
    {
      "cell_type": "code",
      "source": [
        "model.fit(\n",
        "    trainX,\n",
        "    validation_data = valX,\n",
        "    epochs = 10,\n",
        ")"
      ],
      "metadata": {
        "colab": {
          "base_uri": "https://localhost:8080/"
        },
        "id": "9s4voGQV35Ej",
        "outputId": "eca542ef-ad6b-4eb5-8f2f-3f586790b9c7"
      },
      "execution_count": null,
      "outputs": [
        {
          "output_type": "stream",
          "name": "stdout",
          "text": [
            "Epoch 1/10\n",
            "788/788 [==============================] - 58s 72ms/step - loss: 2.8795 - accuracy: 0.2170 - val_loss: 2.0812 - val_accuracy: 0.3962\n",
            "Epoch 2/10\n",
            "788/788 [==============================] - 52s 65ms/step - loss: 1.7038 - accuracy: 0.5062 - val_loss: 1.8775 - val_accuracy: 0.4683\n",
            "Epoch 3/10\n",
            "788/788 [==============================] - 52s 65ms/step - loss: 0.9736 - accuracy: 0.7174 - val_loss: 2.1932 - val_accuracy: 0.4708\n",
            "Epoch 4/10\n",
            "788/788 [==============================] - 52s 65ms/step - loss: 0.4446 - accuracy: 0.8690 - val_loss: 2.8347 - val_accuracy: 0.4635\n",
            "Epoch 5/10\n",
            "788/788 [==============================] - 52s 66ms/step - loss: 0.2360 - accuracy: 0.9316 - val_loss: 3.4896 - val_accuracy: 0.4413\n",
            "Epoch 6/10\n",
            "788/788 [==============================] - 52s 66ms/step - loss: 0.1650 - accuracy: 0.9522 - val_loss: 4.2173 - val_accuracy: 0.4140\n",
            "Epoch 7/10\n",
            "788/788 [==============================] - 52s 65ms/step - loss: 0.1169 - accuracy: 0.9652 - val_loss: 4.3794 - val_accuracy: 0.4343\n",
            "Epoch 8/10\n",
            "788/788 [==============================] - 52s 66ms/step - loss: 0.0931 - accuracy: 0.9735 - val_loss: 5.0129 - val_accuracy: 0.4190\n",
            "Epoch 9/10\n",
            "788/788 [==============================] - 52s 65ms/step - loss: 0.1007 - accuracy: 0.9701 - val_loss: 4.9884 - val_accuracy: 0.4368\n",
            "Epoch 10/10\n",
            "788/788 [==============================] - 52s 65ms/step - loss: 0.0817 - accuracy: 0.9760 - val_loss: 5.3947 - val_accuracy: 0.4143\n"
          ]
        },
        {
          "output_type": "execute_result",
          "data": {
            "text/plain": [
              "<keras.callbacks.History at 0x7fe7121a0890>"
            ]
          },
          "metadata": {},
          "execution_count": 86
        }
      ]
    },
    {
      "cell_type": "code",
      "source": [
        "testY = np.concatenate([y\n",
        "   for x, y in testX\n",
        "], axis = 0)"
      ],
      "metadata": {
        "id": "1I-RBs_2r6R4"
      },
      "execution_count": null,
      "outputs": []
    },
    {
      "cell_type": "code",
      "source": [
        "classes  = testX.class_names"
      ],
      "metadata": {
        "id": "LWwSappwtXaD"
      },
      "execution_count": null,
      "outputs": []
    },
    {
      "cell_type": "code",
      "source": [
        "classes[12]"
      ],
      "metadata": {
        "colab": {
          "base_uri": "https://localhost:8080/",
          "height": 36
        },
        "id": "UFE10QXOt5aq",
        "outputId": "78a46c16-b360-4da6-f871-db3a3051fd81"
      },
      "execution_count": null,
      "outputs": [
        {
          "output_type": "execute_result",
          "data": {
            "text/plain": [
              "'desert'"
            ],
            "application/vnd.google.colaboratory.intrinsic+json": {
              "type": "string"
            }
          },
          "metadata": {},
          "execution_count": 68
        }
      ]
    },
    {
      "cell_type": "code",
      "source": [
        "from seaborn import heatmap\n",
        "from sklearn.metrics import classification_report\n",
        "from sklearn.metrics import confusion_matrix\n",
        "\n",
        "import matplotlib.pyplot as plt\n",
        "\n",
        "# predict the labels of the test set\n",
        "predictedY = model.predict(testX).argmax(axis=1)\n",
        "heatmap(confusion_matrix(testY, predictedY))\n",
        "plt.figure()\n",
        "\n",
        "# print quality metricsl\n",
        "print('\\nTesting Classification Report:\\n\\n', classification_report(testY, predictedY))\n",
        "\n",
        "# predict the labels of the test set\n",
        "predictedY = model.predict(testX)\n",
        "\n",
        "print('\\nTesting Confusion Matrix:\\n')\n",
        "\n"
      ],
      "metadata": {
        "id": "u9Cw0Gyv5W_a",
        "colab": {
          "base_uri": "https://localhost:8080/",
          "height": 1000
        },
        "outputId": "f6911708-2886-4225-b179-6d7a3be44f23"
      },
      "execution_count": null,
      "outputs": [
        {
          "output_type": "stream",
          "name": "stdout",
          "text": [
            "99/99 [==============================] - 4s 37ms/step\n",
            "\n",
            "Testing Classification Report:\n",
            "\n",
            "               precision    recall  f1-score   support\n",
            "\n",
            "           0       0.03      0.03      0.03        70\n",
            "           1       0.02      0.01      0.02        70\n",
            "           2       0.00      0.00      0.00        70\n",
            "           3       0.01      0.01      0.01        70\n",
            "           4       0.00      0.00      0.00        70\n",
            "           5       0.03      0.03      0.03        70\n",
            "           6       0.03      0.03      0.03        70\n",
            "           7       0.00      0.00      0.00        70\n",
            "           8       0.00      0.00      0.00        70\n",
            "           9       0.03      0.03      0.03        70\n",
            "          10       0.02      0.03      0.02        70\n",
            "          11       0.03      0.09      0.05        70\n",
            "          12       0.00      0.00      0.00        70\n",
            "          13       0.03      0.04      0.04        70\n",
            "          14       0.02      0.01      0.02        70\n",
            "          15       0.05      0.03      0.04        70\n",
            "          16       0.05      0.04      0.05        70\n",
            "          17       0.02      0.01      0.02        70\n",
            "          18       0.05      0.06      0.05        70\n",
            "          19       0.00      0.00      0.00        70\n",
            "          20       0.02      0.01      0.02        70\n",
            "          21       0.02      0.01      0.02        70\n",
            "          22       0.04      0.03      0.03        70\n",
            "          23       0.07      0.01      0.02        70\n",
            "          24       0.02      0.01      0.02        70\n",
            "          25       0.05      0.07      0.06        70\n",
            "          26       0.01      0.01      0.01        70\n",
            "          27       0.03      0.06      0.04        70\n",
            "          28       0.02      0.03      0.02        70\n",
            "          29       0.01      0.01      0.01        70\n",
            "          30       0.00      0.00      0.00        70\n",
            "          31       0.00      0.00      0.00        70\n",
            "          32       0.06      0.03      0.04        70\n",
            "          33       0.03      0.04      0.04        70\n",
            "          34       0.07      0.06      0.06        70\n",
            "          35       0.03      0.03      0.03        70\n",
            "          36       0.06      0.07      0.07        70\n",
            "          37       0.00      0.00      0.00        70\n",
            "          38       0.04      0.03      0.03        70\n",
            "          39       0.03      0.03      0.03        70\n",
            "          40       0.02      0.01      0.02        70\n",
            "          41       0.03      0.06      0.04        70\n",
            "          42       0.03      0.04      0.04        70\n",
            "          43       0.03      0.01      0.02        70\n",
            "          44       0.00      0.00      0.00        70\n",
            "\n",
            "    accuracy                           0.03      3150\n",
            "   macro avg       0.02      0.03      0.02      3150\n",
            "weighted avg       0.02      0.03      0.02      3150\n",
            "\n",
            "99/99 [==============================] - 4s 37ms/step\n",
            "\n",
            "Testing Confusion Matrix:\n",
            "\n"
          ]
        },
        {
          "output_type": "display_data",
          "data": {
            "text/plain": [
              "<Figure size 432x288 with 2 Axes>"
            ],
            "image/png": "[encoded data removed]"
          },
          "metadata": {
            "needs_background": "light"
          }
        },
        {
          "output_type": "display_data",
          "data": {
            "text/plain": [
              "<Figure size 432x288 with 0 Axes>"
            ]
          },
          "metadata": {}
        }
      ]
    },
    {
      "cell_type": "markdown",
      "source": [
        "## REPORT\n",
        "  Out of all the assignments the class has completed so far, this was the hardest one, although I am glad to have completed it. The dataset was incredibly large, and tensorflow's methods of unpacking and storing it were quite tedious, and I soend most of the time trying to understand them. By the time I was done with this assignment, I knew both what a PreFetch and Batch Dataset were; I like the standard pd.DatFrame better. \n",
        "\n",
        "### Hyperparameter Tuning \n",
        "  A plethora of models have been run; 11, to be exact. The first 8 focused oon hyperparameter tuning. The hyperparameters that were tuned were _learning rate_, _activation function_, _regularisation_ and _architecture size_. The initial model implemented 2 hidden *relu* layers, with 32 neurons, and an output *relu* with 128 neurons. The basic model, sadly, reached the highest accuracy, with a high of 46.27%. Decreasing the learning rate to 0.0005 made the model consistently fall into local minimas, and increasing it made the model jump over the global minimas. Other activation functions and combinations of activation functions were not successfull (even when paired with different loss functions, including MAE and binary cross entropy, just to be sure), and the regularisations decreased the overall performance (all dancing around the 2% line). Increasing the architecture raises the accuracy initially, however then develops into overfitting. Decreasing the architecture size, on the other hand, does not allow the accuracy to rise at all. It seems the initial model was sitting on a sweetspot.\n",
        "\n",
        "  ### Transfer and Ensemble\n",
        "  I regard both transfer and ensemble models to be extremely valuable. If implemented correctly, they can elevate a model tenfold. I used EfficientB0 with the _imagenet_  weights for my Transfer. Previously, I had tried AlexNet and EfficientB1, but they were giving me problems and, most of all, an infinite loss. While my transfer didn't perform well at all, it was incredibly interesting watching the learning rate adjust itself as the accuracy was unchanging. Thanks to the transfer learning, I realised that the learning rate was not the problem. Afterwards, I tried VGG16 as an alternative, and outperformed every single model, with an unprecented accuracy of 78%. To date, VGG16 is the best, and I am glad I used it. \n",
        "\n",
        "  For my ensembling method, I wanted to push the basic model to its limit, by stacking it three times and saving the weights. It did not work, as the model fell into a local minima, and stayed there for quite some time. The model takes a little less than 2 hours to run, and I ran it two times, the first one with Dropout, and the second one without it. I was really hoping for the ensemble to go well, I'm said it didn't. \n",
        "\n",
        " ### Test split\n",
        "  Splitting a prefetch dataset was not an easy task, but luckily it was accomplished. The basic, mist successfull model was run on the new splits, and proved to have the highest intermediate accuracy: 47%. It also took about a minute per epoch, so amazing time management as well. Subsequently, the heatmap and confusion map show that the classification report isn't accurate with its findings. The heatmap is simply too complex to draw anything at first glance, although once profusel observed, one can see that the accuracy for each class is around 40-50%. For some reason, class 12 and class 21 get confused quite often. This is because class 12 is 'Desert', while class 21 is 'Lake'. Two flat surfaces, with homogeneous coloring, it is understandable. \n",
        "\n"
      ],
      "metadata": {
        "id": "DbnaHgZt3pP-"
      }
    }
  ]
}